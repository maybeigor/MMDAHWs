{
 "cells": [
  {
   "cell_type": "markdown",
   "metadata": {
    "colab_type": "text",
    "id": "W7b8yd6V_jB4"
   },
   "source": [
    "# Homework 2 (Part 2): Spectral clustering\n"
   ]
  },
  {
   "cell_type": "markdown",
   "metadata": {
    "colab_type": "text",
    "id": "8ZoDISAY_jB5"
   },
   "source": [
    "<span style=\"color: red; font-size: 14pt\">Soft deadline: 15.12.2022</span>\n",
    "\n",
    "<span style=\"color: red; font-size: 14pt\">Hard deadline: 16.12.2022 </span>"
   ]
  },
  {
   "cell_type": "markdown",
   "metadata": {
    "colab_type": "text",
    "id": "AOuLEWCx_jB6"
   },
   "source": [
    "**Requirements**: \n",
    "\n",
    "- The report shoulbe in a file: ``MMDA2022-HW1-p2-Spectral_<your_full_name>.ipynb``;\n",
    "- It should be sent to dmitrii.ignatov@gmail.com (Dmitry Ignatov: the lecturer) and futurelifestefan@gmail.com (Stefan Nikolić: TA) with the topic [MMDA2022-HW1-p2-Spectral]-your_full_name.\n",
    "\n",
    "\n"
   ]
  },
  {
   "cell_type": "code",
   "execution_count": 1,
   "metadata": {
    "colab": {},
    "colab_type": "code",
    "id": "zEjMle2E_jB7"
   },
   "outputs": [],
   "source": [
    "import numpy as np\n",
    "import pandas as pd\n",
    "import matplotlib.pyplot as plt\n",
    "\n",
    "%matplotlib inline"
   ]
  },
  {
   "cell_type": "markdown",
   "metadata": {
    "colab_type": "text",
    "id": "iMLklZJl_jB-"
   },
   "source": [
    "In this exercise we follow graph clustering example from David Gleich's tutorial: https://www.dropbox.com/s/w06niyzfe2r8y90/tutorial.pdf?dl=0."
   ]
  },
  {
   "cell_type": "markdown",
   "metadata": {
    "colab_type": "text",
    "id": "kxgoE3XV_jCA"
   },
   "source": [
    "### 1 (Warm up). Finding a partition (0%)\n",
    "Generate a graph repsresnted by its adjecency matrix that consists of two communities."
   ]
  },
  {
   "cell_type": "code",
   "execution_count": 3,
   "metadata": {
    "colab": {},
    "colab_type": "code",
    "id": "pFt1ZGPZ_jCA"
   },
   "outputs": [],
   "source": [
    "# the number of vertices\n",
    "# (each vertex is an individual actor, for example, a person with certain political views, e.g. republican or democrat\n",
    "\n",
    "n = 1000\n",
    "\n",
    "# an array of n vertices\n",
    "x = np.arange(n)\n",
    "\n",
    "# random permutations\n",
    "np.random.shuffle(x)\n",
    "\n",
    "# the size of the first group\n",
    "gs = 450\n",
    "\n",
    "# let us select gs group members to the first group\n",
    "group1 = x[:gs]\n",
    "\n",
    "# and n-gs representatives to the second one\n",
    "group2 = x[gs:]\n",
    "\n",
    "# the probability of connection within the first group\n",
    "p_group1 = 0.5\n",
    "\n",
    "# the probability of connection within the second group\n",
    "p_group2 = 0.4\n",
    "\n",
    "# intergroup connections\n",
    "p_between = 0.1\n",
    "\n",
    "# initialistion of the adjacency matrix nxn\n",
    "A = np.zeros([n, n])"
   ]
  },
  {
   "cell_type": "code",
   "execution_count": 2,
   "metadata": {},
   "outputs": [],
   "source": [
    "n = 1000"
   ]
  },
  {
   "cell_type": "code",
   "execution_count": 3,
   "metadata": {},
   "outputs": [],
   "source": [
    "x = np.arange(n)"
   ]
  },
  {
   "cell_type": "code",
   "execution_count": 4,
   "metadata": {},
   "outputs": [
    {
     "data": {
      "text/plain": [
       "array([  0,   1,   2,   3,   4,   5,   6,   7,   8,   9,  10,  11,  12,\n",
       "        13,  14,  15,  16,  17,  18,  19,  20,  21,  22,  23,  24,  25,\n",
       "        26,  27,  28,  29,  30,  31,  32,  33,  34,  35,  36,  37,  38,\n",
       "        39,  40,  41,  42,  43,  44,  45,  46,  47,  48,  49,  50,  51,\n",
       "        52,  53,  54,  55,  56,  57,  58,  59,  60,  61,  62,  63,  64,\n",
       "        65,  66,  67,  68,  69,  70,  71,  72,  73,  74,  75,  76,  77,\n",
       "        78,  79,  80,  81,  82,  83,  84,  85,  86,  87,  88,  89,  90,\n",
       "        91,  92,  93,  94,  95,  96,  97,  98,  99, 100, 101, 102, 103,\n",
       "       104, 105, 106, 107, 108, 109, 110, 111, 112, 113, 114, 115, 116,\n",
       "       117, 118, 119, 120, 121, 122, 123, 124, 125, 126, 127, 128, 129,\n",
       "       130, 131, 132, 133, 134, 135, 136, 137, 138, 139, 140, 141, 142,\n",
       "       143, 144, 145, 146, 147, 148, 149, 150, 151, 152, 153, 154, 155,\n",
       "       156, 157, 158, 159, 160, 161, 162, 163, 164, 165, 166, 167, 168,\n",
       "       169, 170, 171, 172, 173, 174, 175, 176, 177, 178, 179, 180, 181,\n",
       "       182, 183, 184, 185, 186, 187, 188, 189, 190, 191, 192, 193, 194,\n",
       "       195, 196, 197, 198, 199, 200, 201, 202, 203, 204, 205, 206, 207,\n",
       "       208, 209, 210, 211, 212, 213, 214, 215, 216, 217, 218, 219, 220,\n",
       "       221, 222, 223, 224, 225, 226, 227, 228, 229, 230, 231, 232, 233,\n",
       "       234, 235, 236, 237, 238, 239, 240, 241, 242, 243, 244, 245, 246,\n",
       "       247, 248, 249, 250, 251, 252, 253, 254, 255, 256, 257, 258, 259,\n",
       "       260, 261, 262, 263, 264, 265, 266, 267, 268, 269, 270, 271, 272,\n",
       "       273, 274, 275, 276, 277, 278, 279, 280, 281, 282, 283, 284, 285,\n",
       "       286, 287, 288, 289, 290, 291, 292, 293, 294, 295, 296, 297, 298,\n",
       "       299, 300, 301, 302, 303, 304, 305, 306, 307, 308, 309, 310, 311,\n",
       "       312, 313, 314, 315, 316, 317, 318, 319, 320, 321, 322, 323, 324,\n",
       "       325, 326, 327, 328, 329, 330, 331, 332, 333, 334, 335, 336, 337,\n",
       "       338, 339, 340, 341, 342, 343, 344, 345, 346, 347, 348, 349, 350,\n",
       "       351, 352, 353, 354, 355, 356, 357, 358, 359, 360, 361, 362, 363,\n",
       "       364, 365, 366, 367, 368, 369, 370, 371, 372, 373, 374, 375, 376,\n",
       "       377, 378, 379, 380, 381, 382, 383, 384, 385, 386, 387, 388, 389,\n",
       "       390, 391, 392, 393, 394, 395, 396, 397, 398, 399, 400, 401, 402,\n",
       "       403, 404, 405, 406, 407, 408, 409, 410, 411, 412, 413, 414, 415,\n",
       "       416, 417, 418, 419, 420, 421, 422, 423, 424, 425, 426, 427, 428,\n",
       "       429, 430, 431, 432, 433, 434, 435, 436, 437, 438, 439, 440, 441,\n",
       "       442, 443, 444, 445, 446, 447, 448, 449, 450, 451, 452, 453, 454,\n",
       "       455, 456, 457, 458, 459, 460, 461, 462, 463, 464, 465, 466, 467,\n",
       "       468, 469, 470, 471, 472, 473, 474, 475, 476, 477, 478, 479, 480,\n",
       "       481, 482, 483, 484, 485, 486, 487, 488, 489, 490, 491, 492, 493,\n",
       "       494, 495, 496, 497, 498, 499, 500, 501, 502, 503, 504, 505, 506,\n",
       "       507, 508, 509, 510, 511, 512, 513, 514, 515, 516, 517, 518, 519,\n",
       "       520, 521, 522, 523, 524, 525, 526, 527, 528, 529, 530, 531, 532,\n",
       "       533, 534, 535, 536, 537, 538, 539, 540, 541, 542, 543, 544, 545,\n",
       "       546, 547, 548, 549, 550, 551, 552, 553, 554, 555, 556, 557, 558,\n",
       "       559, 560, 561, 562, 563, 564, 565, 566, 567, 568, 569, 570, 571,\n",
       "       572, 573, 574, 575, 576, 577, 578, 579, 580, 581, 582, 583, 584,\n",
       "       585, 586, 587, 588, 589, 590, 591, 592, 593, 594, 595, 596, 597,\n",
       "       598, 599, 600, 601, 602, 603, 604, 605, 606, 607, 608, 609, 610,\n",
       "       611, 612, 613, 614, 615, 616, 617, 618, 619, 620, 621, 622, 623,\n",
       "       624, 625, 626, 627, 628, 629, 630, 631, 632, 633, 634, 635, 636,\n",
       "       637, 638, 639, 640, 641, 642, 643, 644, 645, 646, 647, 648, 649,\n",
       "       650, 651, 652, 653, 654, 655, 656, 657, 658, 659, 660, 661, 662,\n",
       "       663, 664, 665, 666, 667, 668, 669, 670, 671, 672, 673, 674, 675,\n",
       "       676, 677, 678, 679, 680, 681, 682, 683, 684, 685, 686, 687, 688,\n",
       "       689, 690, 691, 692, 693, 694, 695, 696, 697, 698, 699, 700, 701,\n",
       "       702, 703, 704, 705, 706, 707, 708, 709, 710, 711, 712, 713, 714,\n",
       "       715, 716, 717, 718, 719, 720, 721, 722, 723, 724, 725, 726, 727,\n",
       "       728, 729, 730, 731, 732, 733, 734, 735, 736, 737, 738, 739, 740,\n",
       "       741, 742, 743, 744, 745, 746, 747, 748, 749, 750, 751, 752, 753,\n",
       "       754, 755, 756, 757, 758, 759, 760, 761, 762, 763, 764, 765, 766,\n",
       "       767, 768, 769, 770, 771, 772, 773, 774, 775, 776, 777, 778, 779,\n",
       "       780, 781, 782, 783, 784, 785, 786, 787, 788, 789, 790, 791, 792,\n",
       "       793, 794, 795, 796, 797, 798, 799, 800, 801, 802, 803, 804, 805,\n",
       "       806, 807, 808, 809, 810, 811, 812, 813, 814, 815, 816, 817, 818,\n",
       "       819, 820, 821, 822, 823, 824, 825, 826, 827, 828, 829, 830, 831,\n",
       "       832, 833, 834, 835, 836, 837, 838, 839, 840, 841, 842, 843, 844,\n",
       "       845, 846, 847, 848, 849, 850, 851, 852, 853, 854, 855, 856, 857,\n",
       "       858, 859, 860, 861, 862, 863, 864, 865, 866, 867, 868, 869, 870,\n",
       "       871, 872, 873, 874, 875, 876, 877, 878, 879, 880, 881, 882, 883,\n",
       "       884, 885, 886, 887, 888, 889, 890, 891, 892, 893, 894, 895, 896,\n",
       "       897, 898, 899, 900, 901, 902, 903, 904, 905, 906, 907, 908, 909,\n",
       "       910, 911, 912, 913, 914, 915, 916, 917, 918, 919, 920, 921, 922,\n",
       "       923, 924, 925, 926, 927, 928, 929, 930, 931, 932, 933, 934, 935,\n",
       "       936, 937, 938, 939, 940, 941, 942, 943, 944, 945, 946, 947, 948,\n",
       "       949, 950, 951, 952, 953, 954, 955, 956, 957, 958, 959, 960, 961,\n",
       "       962, 963, 964, 965, 966, 967, 968, 969, 970, 971, 972, 973, 974,\n",
       "       975, 976, 977, 978, 979, 980, 981, 982, 983, 984, 985, 986, 987,\n",
       "       988, 989, 990, 991, 992, 993, 994, 995, 996, 997, 998, 999])"
      ]
     },
     "execution_count": 4,
     "metadata": {},
     "output_type": "execute_result"
    }
   ],
   "source": [
    "x"
   ]
  },
  {
   "cell_type": "code",
   "execution_count": 5,
   "metadata": {},
   "outputs": [],
   "source": [
    "np.random.shuffle(x)"
   ]
  },
  {
   "cell_type": "code",
   "execution_count": 8,
   "metadata": {},
   "outputs": [
    {
     "data": {
      "text/plain": [
       "array([670, 877, 290, 673, 338, 994, 247, 578, 706, 780, 370, 701,  84,\n",
       "       642, 626,  16, 366, 985, 511, 484, 283, 349, 423, 691, 840,  31,\n",
       "       129, 430, 270, 758, 451, 200, 789, 477, 530,  18, 412, 723, 480,\n",
       "       100, 343, 236,  66, 261, 433, 805, 193, 418, 464, 248, 199, 497,\n",
       "       376, 778, 815, 262, 717, 483, 145,  41, 608, 440, 402, 826, 274,\n",
       "       434, 421,  20,  55,  91, 369, 583,  19, 639, 822, 690, 885, 910,\n",
       "       610, 267, 684, 874, 790, 246, 728,  38, 603, 726, 786, 631, 982,\n",
       "       194, 901, 264, 565, 899, 587, 147, 479, 321, 447, 591, 959, 737,\n",
       "       568, 628, 181, 515, 184, 285, 345, 168, 577, 917, 900, 879, 909,\n",
       "       641, 332, 368, 566, 108, 963, 551, 836, 404, 677,  22, 683, 890,\n",
       "       481, 884, 271, 143, 624, 520, 475, 793, 685, 883, 644, 278, 855,\n",
       "        92, 699, 556, 674, 486, 586,  40, 830, 507, 131, 798, 286, 742,\n",
       "       941, 104, 133, 666, 465, 847, 456, 211, 234, 251, 113,  93, 671,\n",
       "       455, 490, 550, 435, 979, 210, 539, 763, 308, 508, 195, 570, 315,\n",
       "       144,  42, 521, 254, 866, 502, 976, 785, 672, 360, 939, 975, 135,\n",
       "       668, 253, 629, 346, 132, 313, 800, 196, 107, 328, 120, 920, 377,\n",
       "       231, 605, 575, 766, 741, 662, 561, 438, 542, 425, 946, 695, 382,\n",
       "       839, 965, 886, 307, 126, 613, 689, 506, 774, 381, 317, 781, 471,\n",
       "        65, 294, 818, 558, 831, 148, 908, 582,  76, 347, 634,  24, 221,\n",
       "       298, 752, 389,   1, 907, 379, 751, 935, 403, 960, 557, 622, 454,\n",
       "       358, 572, 178, 635, 767, 222, 299, 405, 779, 811, 301, 207, 505,\n",
       "       385, 964,  10, 359, 116, 220, 538, 478, 277, 821, 427, 114, 329,\n",
       "       459, 297, 801, 312,   3, 952, 606, 157,  13, 209, 987,  11, 432,\n",
       "       601, 724, 833, 832, 223, 160, 853, 549, 743, 787, 226, 322,  54,\n",
       "       416, 337, 498, 878, 183, 938, 281,  74, 522, 646,  49, 487, 755,\n",
       "       230, 198, 825, 669, 722, 543, 925, 344, 244, 803, 569, 924,  27,\n",
       "       106, 714,  62, 392, 850,  64, 895, 186, 217, 749,  96, 188, 444,\n",
       "       835, 314, 304, 555, 808, 954, 650, 929, 258, 804, 534, 173,  15,\n",
       "       784, 467, 989, 810, 772, 686, 295, 529, 991, 937, 413, 913, 545,\n",
       "       118, 152, 110,  73, 744, 536, 296, 428, 363, 809, 458, 638, 928,\n",
       "       849, 218, 170, 205, 469,   8, 732, 857, 122, 355, 219, 192, 998,\n",
       "       269,  25, 988, 341, 999, 762, 562, 806, 351, 882,   9, 860, 782,\n",
       "        90, 318, 719, 783, 436, 390, 485, 227, 588,  60, 137, 984, 845,\n",
       "       612, 663, 190, 165, 371, 667,  78, 746, 986, 856,  51, 127, 350,\n",
       "       597, 647, 409, 842, 524, 688,  43, 916, 163, 208, 736, 531,  80,\n",
       "       580, 733, 112, 526,  14,  35, 204, 541, 812, 598, 470, 852, 753,\n",
       "       858, 239, 547, 125, 934, 834, 870, 861, 980, 509, 280, 213, 500,\n",
       "       265, 607, 974, 687, 461, 482, 365, 760, 729, 268, 633, 463, 187,\n",
       "       206, 919,  88, 604, 655, 169, 970, 896, 491, 950, 535, 756, 519,\n",
       "       532, 617, 552, 489, 111, 319, 777, 429, 953, 166, 843, 990,  69,\n",
       "       863, 915, 417, 871, 525,   4, 240, 495, 272, 585, 921, 263, 680,\n",
       "       621, 375,  37, 176, 747, 232, 618,  58, 602, 393, 513, 981,  94,\n",
       "       333,  86, 567, 420, 902, 977, 289, 546,  68, 293, 256, 995,  67,\n",
       "       962, 384, 250, 943, 128, 933, 452, 275, 593, 252,  12, 768, 185,\n",
       "       410, 466, 462, 702, 681, 266, 142, 327, 675, 927,  63, 947, 352,\n",
       "       527, 514, 373, 620, 996, 146,  61,  32, 154, 881, 611, 708, 357,\n",
       "       472, 596, 616, 316, 150,  48, 159, 388, 179, 892, 584, 235, 174,\n",
       "       449, 260,  57, 437, 978,  46,  77, 795, 619, 682,   5,  47, 740,\n",
       "       191, 161, 287, 636, 914, 788,  53, 406, 865, 678, 867,   2, 966,\n",
       "       155, 450, 302, 775, 518, 614, 201,  50, 630, 735, 554, 380, 300,\n",
       "       101, 718, 306, 773, 897, 918, 320, 872, 241, 353, 997,  72, 367,\n",
       "        83, 228, 164, 828, 955, 340, 397, 488, 291, 745,  44, 709, 180,\n",
       "       257, 592, 362, 492, 216, 923, 705, 837, 512, 563, 115, 973, 439,\n",
       "       873, 182,  79, 807, 139, 158, 656, 903, 967, 162, 971, 930, 130,\n",
       "       109, 949,  17, 625, 716, 951, 819, 237, 245, 138, 151, 117, 864,\n",
       "       696, 627, 273, 419,  89, 528, 212, 540, 640, 229, 869, 958, 814,\n",
       "        52, 292, 494, 288, 637, 426, 653, 396,  87, 391,  99, 493, 548,\n",
       "       326, 348, 711, 197, 400, 888, 712, 141, 339, 859, 331, 599,  26,\n",
       "       759, 372, 387, 770, 664, 854, 721,  56, 474, 224,  75, 715, 945,\n",
       "       697, 889,  29, 992, 560, 912, 499, 233, 968, 123, 334, 305,  30,\n",
       "       242, 309,   6, 342, 336, 632, 564,  85, 399, 969, 771, 279,  82,\n",
       "       734, 704, 846, 658, 816,  33, 574, 829, 594, 517, 848, 149, 441,\n",
       "       893, 102, 757, 993, 643, 665, 414, 615, 707, 906, 652, 862, 817,\n",
       "       457, 589,  36, 791,  39, 983, 573, 922, 255, 911, 894, 103,   7,\n",
       "       887,  28, 851, 537, 167, 844, 203, 648, 460, 926, 356, 177, 523,\n",
       "       378, 576, 398, 609,  45, 243,  34, 259, 824, 769,  98, 335, 510,\n",
       "       303, 776, 692, 694, 411, 904, 124, 657,  71, 445, 703, 503, 710,\n",
       "       905, 516, 649, 448,  95, 972, 936, 140, 119, 325, 171, 794, 942,\n",
       "        59, 284, 595, 713, 446,  97, 876, 282, 422, 553, 748,  70, 121,\n",
       "       407, 249, 725, 661, 473, 364, 443, 468, 738, 880, 754, 424, 238,\n",
       "       623, 827, 739, 579, 214, 134, 374, 401, 823, 898,   0, 820, 838,\n",
       "       720, 544, 504, 415,  23, 727, 383,  21, 841, 202, 932, 600, 948,\n",
       "       310, 476, 324, 700, 175, 276, 189, 961, 156, 408, 581, 496, 311,\n",
       "       698, 813, 875, 761, 731, 323, 361, 501, 891, 153, 659, 172, 395,\n",
       "       559, 136, 386, 931, 796, 799,  81, 654, 442, 660, 215, 750, 431,\n",
       "       394, 956, 453, 868, 225, 679, 590, 693, 533, 940, 730, 645, 571,\n",
       "       764, 651, 957, 797, 354, 944, 765, 330, 105, 676, 792, 802])"
      ]
     },
     "execution_count": 8,
     "metadata": {},
     "output_type": "execute_result"
    }
   ],
   "source": [
    "x"
   ]
  },
  {
   "cell_type": "code",
   "execution_count": 6,
   "metadata": {},
   "outputs": [],
   "source": [
    "# the size of the first group\n",
    "gs = 450\n",
    "\n",
    "# let us select gs group members to the first group\n",
    "group1 = x[:gs]"
   ]
  },
  {
   "cell_type": "code",
   "execution_count": 10,
   "metadata": {},
   "outputs": [
    {
     "data": {
      "text/plain": [
       "450"
      ]
     },
     "execution_count": 10,
     "metadata": {},
     "output_type": "execute_result"
    }
   ],
   "source": [
    "len(group1)"
   ]
  },
  {
   "cell_type": "code",
   "execution_count": 9,
   "metadata": {},
   "outputs": [
    {
     "data": {
      "text/plain": [
       "450"
      ]
     },
     "execution_count": 9,
     "metadata": {},
     "output_type": "execute_result"
    }
   ],
   "source": [
    "len(group1)"
   ]
  },
  {
   "cell_type": "code",
   "execution_count": 7,
   "metadata": {},
   "outputs": [],
   "source": [
    "# and n-gs representatives to the second one\n",
    "group2 = x[gs:]"
   ]
  },
  {
   "cell_type": "code",
   "execution_count": 11,
   "metadata": {},
   "outputs": [],
   "source": [
    "# the probability of connection within the first group\n",
    "p_group1 = 0.5\n",
    "\n",
    "# the probability of connection within the second group\n",
    "p_group2 = 0.4\n",
    "\n",
    "# intergroup connections\n",
    "p_between = 0.1\n",
    "\n",
    "# initialistion of the adjacency matrix nxn\n",
    "A = np.zeros([n, n])"
   ]
  },
  {
   "cell_type": "code",
   "execution_count": 12,
   "metadata": {},
   "outputs": [
    {
     "data": {
      "text/plain": [
       "array([[0., 0., 0., ..., 0., 0., 0.],\n",
       "       [0., 0., 0., ..., 0., 0., 0.],\n",
       "       [0., 0., 0., ..., 0., 0., 0.],\n",
       "       ...,\n",
       "       [0., 0., 0., ..., 0., 0., 0.],\n",
       "       [0., 0., 0., ..., 0., 0., 0.],\n",
       "       [0., 0., 0., ..., 0., 0., 0.]])"
      ]
     },
     "execution_count": 12,
     "metadata": {},
     "output_type": "execute_result"
    }
   ],
   "source": [
    "A"
   ]
  },
  {
   "cell_type": "code",
   "execution_count": 15,
   "metadata": {
    "colab": {},
    "colab_type": "code",
    "id": "vDRbyot__jCE"
   },
   "outputs": [],
   "source": [
    "assert A.shape == (1000, 1000)"
   ]
  },
  {
   "cell_type": "code",
   "execution_count": null,
   "metadata": {},
   "outputs": [],
   "source": []
  },
  {
   "cell_type": "code",
   "execution_count": 16,
   "metadata": {
    "colab": {},
    "colab_type": "code",
    "id": "ltxWNpEY_jCI",
    "outputId": "be8d6b26-065e-46d0-8478-094710aca20f"
   },
   "outputs": [
    {
     "data": {
      "text/plain": [
       "(450, 450)"
      ]
     },
     "execution_count": 16,
     "metadata": {},
     "output_type": "execute_result"
    }
   ],
   "source": [
    "# adjecency submatrix for the first group\n",
    "A[np.ix_(group1, group1)].shape"
   ]
  },
  {
   "cell_type": "code",
   "execution_count": 18,
   "metadata": {},
   "outputs": [
    {
     "data": {
      "text/plain": [
       "array([[ True,  True,  True, ...,  True,  True,  True],\n",
       "       [ True, False,  True, ...,  True,  True,  True],\n",
       "       [ True,  True,  True, ..., False, False,  True],\n",
       "       ...,\n",
       "       [False, False, False, ...,  True,  True, False],\n",
       "       [ True,  True, False, ..., False, False, False],\n",
       "       [False,  True,  True, ...,  True,  True,  True]])"
      ]
     },
     "execution_count": 18,
     "metadata": {},
     "output_type": "execute_result"
    }
   ],
   "source": [
    "np.random.rand(gs, gs) < p_group1"
   ]
  },
  {
   "cell_type": "code",
   "execution_count": 17,
   "metadata": {},
   "outputs": [
    {
     "data": {
      "text/plain": [
       "array([[0.27393106, 0.60483707, 0.72480138, ..., 0.49478541, 0.35738992,\n",
       "        0.08508888],\n",
       "       [0.6648394 , 0.25954306, 0.55870278, ..., 0.16350004, 0.03664544,\n",
       "        0.89626978],\n",
       "       [0.72602014, 0.86026675, 0.25929205, ..., 0.74927229, 0.19672294,\n",
       "        0.00813068],\n",
       "       ...,\n",
       "       [0.14399542, 0.80655488, 0.19841704, ..., 0.31393711, 0.49623613,\n",
       "        0.6960609 ],\n",
       "       [0.06199674, 0.88715434, 0.72628456, ..., 0.20674425, 0.23826912,\n",
       "        0.9543632 ],\n",
       "       [0.44767448, 0.50273068, 0.13432612, ..., 0.95160589, 0.7153013 ,\n",
       "        0.23307771]])"
      ]
     },
     "execution_count": 17,
     "metadata": {},
     "output_type": "execute_result"
    }
   ],
   "source": [
    "np.random.rand(gs, gs) "
   ]
  },
  {
   "cell_type": "code",
   "execution_count": 19,
   "metadata": {
    "colab": {},
    "colab_type": "code",
    "id": "BO9gouwc_jCN"
   },
   "outputs": [],
   "source": [
    "# generation of connections in the first group\n",
    "A[np.ix_(group1, group1)] = np.random.rand(gs, gs) < p_group1\n",
    "\n",
    "# generation of connections in the second group\n",
    "A[np.ix_(group2, group2)] = np.random.rand(n-gs, n-gs) < p_group2\n",
    "\n",
    "# genegation of intergroup connections\n",
    "A[np.ix_(group1, group2)] = np.random.rand(gs, n-gs) < p_between\n",
    "\n",
    "# we need a symmetric matrix for modeling \"friendship relationship\"\n",
    "# and cut the upper triangle matrix\n",
    "A = np.triu(A,1)\n",
    "\n",
    "\n",
    "# let us transpose it and add to the upper triangle matrix\n",
    "A = A + A.T"
   ]
  },
  {
   "cell_type": "code",
   "execution_count": 19,
   "metadata": {},
   "outputs": [],
   "source": [
    "# generation of connections in the first group\n",
    "A[np.ix_(group1, group1)] = np.random.rand(gs, gs) < p_group1\n",
    "\n",
    "# generation of connections in the second group\n",
    "A[np.ix_(group2, group2)] = np.random.rand(n-gs, n-gs) < p_group2\n",
    "\n",
    "# genegation of intergroup connections\n",
    "A[np.ix_(group1, group2)] = np.random.rand(gs, n-gs) < p_between\n",
    "\n"
   ]
  },
  {
   "cell_type": "code",
   "execution_count": 20,
   "metadata": {},
   "outputs": [
    {
     "data": {
      "text/plain": [
       "<matplotlib.collections.QuadMesh at 0x7f8e5845a5b0>"
      ]
     },
     "execution_count": 20,
     "metadata": {},
     "output_type": "execute_result"
    },
    {
     "data": {
      "image/png": "[encoded data removed]",
      "text/plain": [
       "<Figure size 432x288 with 1 Axes>"
      ]
     },
     "metadata": {
      "needs_background": "light"
     },
     "output_type": "display_data"
    }
   ],
   "source": [
    "plt.pcolormesh(A)"
   ]
  },
  {
   "cell_type": "code",
   "execution_count": 21,
   "metadata": {},
   "outputs": [],
   "source": [
    "A = np.triu(A,1)"
   ]
  },
  {
   "cell_type": "code",
   "execution_count": 24,
   "metadata": {},
   "outputs": [
    {
     "data": {
      "text/plain": [
       "<matplotlib.collections.QuadMesh at 0x7f8e68e057f0>"
      ]
     },
     "execution_count": 24,
     "metadata": {},
     "output_type": "execute_result"
    },
    {
     "data": {
      "image/png": "[encoded data removed]",
      "text/plain": [
       "<Figure size 432x288 with 1 Axes>"
      ]
     },
     "metadata": {
      "needs_background": "light"
     },
     "output_type": "display_data"
    }
   ],
   "source": [
    "plt.pcolormesh(A)"
   ]
  },
  {
   "cell_type": "code",
   "execution_count": 25,
   "metadata": {},
   "outputs": [
    {
     "data": {
      "text/plain": [
       "<matplotlib.collections.QuadMesh at 0x7f8e585329d0>"
      ]
     },
     "execution_count": 25,
     "metadata": {},
     "output_type": "execute_result"
    },
    {
     "data": {
      "image/png": "[encoded data removed]",
      "text/plain": [
       "<Figure size 432x288 with 1 Axes>"
      ]
     },
     "metadata": {
      "needs_background": "light"
     },
     "output_type": "display_data"
    }
   ],
   "source": [
    "plt.pcolormesh(A.T)"
   ]
  },
  {
   "cell_type": "code",
   "execution_count": 26,
   "metadata": {},
   "outputs": [],
   "source": [
    "A=A+A.T"
   ]
  },
  {
   "cell_type": "code",
   "execution_count": 27,
   "metadata": {},
   "outputs": [
    {
     "data": {
      "text/plain": [
       "<matplotlib.collections.QuadMesh at 0x7f8e487ca640>"
      ]
     },
     "execution_count": 27,
     "metadata": {},
     "output_type": "execute_result"
    },
    {
     "data": {
      "image/png": "[encoded data removed]",
      "text/plain": [
       "<Figure size 432x288 with 1 Axes>"
      ]
     },
     "metadata": {
      "needs_background": "light"
     },
     "output_type": "display_data"
    }
   ],
   "source": [
    "plt.pcolormesh(A)"
   ]
  },
  {
   "cell_type": "code",
   "execution_count": 28,
   "metadata": {},
   "outputs": [
    {
     "data": {
      "image/png": "[encoded data removed]",
      "text/plain": [
       "<Figure size 432x288 with 1 Axes>"
      ]
     },
     "metadata": {
      "needs_background": "light"
     },
     "output_type": "display_data"
    }
   ],
   "source": [
    "# let us have a look (it seems, the structure is absent)\n",
    "plt.pcolormesh(A);"
   ]
  },
  {
   "cell_type": "code",
   "execution_count": 34,
   "metadata": {},
   "outputs": [
    {
     "data": {
      "text/plain": [
       "True"
      ]
     },
     "execution_count": 34,
     "metadata": {},
     "output_type": "execute_result"
    }
   ],
   "source": []
  },
  {
   "cell_type": "code",
   "execution_count": 35,
   "metadata": {},
   "outputs": [
    {
     "data": {
      "text/plain": [
       "0.0"
      ]
     },
     "execution_count": 35,
     "metadata": {},
     "output_type": "execute_result"
    }
   ],
   "source": [
    "#checking the symmetry\n",
    "sum(sum(np.abs(A-A.T)))"
   ]
  },
  {
   "cell_type": "code",
   "execution_count": 36,
   "metadata": {},
   "outputs": [
    {
     "data": {
      "text/plain": [
       "0.0"
      ]
     },
     "execution_count": 36,
     "metadata": {},
     "output_type": "execute_result"
    }
   ],
   "source": [
    "#cheking the main diagonal -- it should be empty\n",
    "sum(np.diag(A))"
   ]
  },
  {
   "cell_type": "markdown",
   "metadata": {
    "colab_type": "text",
    "id": "3y6BZjtw_jCT"
   },
   "source": [
    "Follow the hints from the tutorial. First, calculate the Laplacian matrix, L=D-A, find its second smallest eigenvector, sort it, and use the found indicies and restore the model structure as the two group of  \"friends\"."
   ]
  },
  {
   "cell_type": "code",
   "execution_count": 37,
   "metadata": {
    "colab": {},
    "colab_type": "code",
    "id": "SDSCmvdR_jCU"
   },
   "outputs": [],
   "source": [
    "D=np.diag(sum(A))"
   ]
  },
  {
   "cell_type": "code",
   "execution_count": 40,
   "metadata": {},
   "outputs": [
    {
     "data": {
      "text/plain": [
       "178.0"
      ]
     },
     "execution_count": 40,
     "metadata": {},
     "output_type": "execute_result"
    }
   ],
   "source": [
    "min(sum(A))"
   ]
  },
  {
   "cell_type": "code",
   "execution_count": 41,
   "metadata": {},
   "outputs": [
    {
     "data": {
      "image/png": "[encoded data removed]",
      "text/plain": [
       "<Figure size 432x288 with 1 Axes>"
      ]
     },
     "metadata": {
      "needs_background": "light"
     },
     "output_type": "display_data"
    }
   ],
   "source": [
    "plt.pcolormesh(D);"
   ]
  },
  {
   "cell_type": "code",
   "execution_count": 42,
   "metadata": {},
   "outputs": [],
   "source": [
    "L=D-A"
   ]
  },
  {
   "cell_type": "code",
   "execution_count": 44,
   "metadata": {},
   "outputs": [],
   "source": [
    "from scipy.sparse.linalg import eigsh #a better choice than numpy"
   ]
  },
  {
   "cell_type": "code",
   "execution_count": 47,
   "metadata": {},
   "outputs": [
    {
     "name": "stdout",
     "output_type": "stream",
     "text": [
      "Help on function eigsh in module scipy.sparse.linalg.eigen.arpack.arpack:\n",
      "\n",
      "eigsh(A, k=6, M=None, sigma=None, which='LM', v0=None, ncv=None, maxiter=None, tol=0, return_eigenvectors=True, Minv=None, OPinv=None, mode='normal')\n",
      "    Find k eigenvalues and eigenvectors of the real symmetric square matrix\n",
      "    or complex Hermitian matrix A.\n",
      "    \n",
      "    Solves ``A * x[i] = w[i] * x[i]``, the standard eigenvalue problem for\n",
      "    w[i] eigenvalues with corresponding eigenvectors x[i].\n",
      "    \n",
      "    If M is specified, solves ``A * x[i] = w[i] * M * x[i]``, the\n",
      "    generalized eigenvalue problem for w[i] eigenvalues\n",
      "    with corresponding eigenvectors x[i].\n",
      "    \n",
      "    Note that there is no specialized routine for the case when A is a complex\n",
      "    Hermitian matrix. In this case, ``eigsh()`` will call ``eigs()`` and return the\n",
      "    real parts of the eigenvalues thus obtained.\n",
      "    \n",
      "    Parameters\n",
      "    ----------\n",
      "    A : ndarray, sparse matrix or LinearOperator\n",
      "        A square operator representing the operation ``A * x``, where ``A`` is\n",
      "        real symmetric or complex Hermitian. For buckling mode (see below)\n",
      "        ``A`` must additionally be positive-definite.\n",
      "    k : int, optional\n",
      "        The number of eigenvalues and eigenvectors desired.\n",
      "        `k` must be smaller than N. It is not possible to compute all\n",
      "        eigenvectors of a matrix.\n",
      "    \n",
      "    Returns\n",
      "    -------\n",
      "    w : array\n",
      "        Array of k eigenvalues.\n",
      "    v : array\n",
      "        An array representing the `k` eigenvectors.  The column ``v[:, i]`` is\n",
      "        the eigenvector corresponding to the eigenvalue ``w[i]``.\n",
      "    \n",
      "    Other Parameters\n",
      "    ----------------\n",
      "    M : An N x N matrix, array, sparse matrix, or linear operator representing\n",
      "        the operation ``M @ x`` for the generalized eigenvalue problem\n",
      "    \n",
      "            A @ x = w * M @ x.\n",
      "    \n",
      "        M must represent a real symmetric matrix if A is real, and must\n",
      "        represent a complex Hermitian matrix if A is complex. For best\n",
      "        results, the data type of M should be the same as that of A.\n",
      "        Additionally:\n",
      "    \n",
      "            If sigma is None, M is symmetric positive definite.\n",
      "    \n",
      "            If sigma is specified, M is symmetric positive semi-definite.\n",
      "    \n",
      "            In buckling mode, M is symmetric indefinite.\n",
      "    \n",
      "        If sigma is None, eigsh requires an operator to compute the solution\n",
      "        of the linear equation ``M @ x = b``. This is done internally via a\n",
      "        (sparse) LU decomposition for an explicit matrix M, or via an\n",
      "        iterative solver for a general linear operator.  Alternatively,\n",
      "        the user can supply the matrix or operator Minv, which gives\n",
      "        ``x = Minv @ b = M^-1 @ b``.\n",
      "    sigma : real\n",
      "        Find eigenvalues near sigma using shift-invert mode.  This requires\n",
      "        an operator to compute the solution of the linear system\n",
      "        ``[A - sigma * M] x = b``, where M is the identity matrix if\n",
      "        unspecified.  This is computed internally via a (sparse) LU\n",
      "        decomposition for explicit matrices A & M, or via an iterative\n",
      "        solver if either A or M is a general linear operator.\n",
      "        Alternatively, the user can supply the matrix or operator OPinv,\n",
      "        which gives ``x = OPinv @ b = [A - sigma * M]^-1 @ b``.\n",
      "        Note that when sigma is specified, the keyword 'which' refers to\n",
      "        the shifted eigenvalues ``w'[i]`` where:\n",
      "    \n",
      "            if mode == 'normal', ``w'[i] = 1 / (w[i] - sigma)``.\n",
      "    \n",
      "            if mode == 'cayley', ``w'[i] = (w[i] + sigma) / (w[i] - sigma)``.\n",
      "    \n",
      "            if mode == 'buckling', ``w'[i] = w[i] / (w[i] - sigma)``.\n",
      "    \n",
      "        (see further discussion in 'mode' below)\n",
      "    v0 : ndarray, optional\n",
      "        Starting vector for iteration.\n",
      "        Default: random\n",
      "    ncv : int, optional\n",
      "        The number of Lanczos vectors generated ncv must be greater than k and\n",
      "        smaller than n; it is recommended that ``ncv > 2*k``.\n",
      "        Default: ``min(n, max(2*k + 1, 20))``\n",
      "    which : str ['LM' | 'SM' | 'LA' | 'SA' | 'BE']\n",
      "        If A is a complex Hermitian matrix, 'BE' is invalid.\n",
      "        Which `k` eigenvectors and eigenvalues to find:\n",
      "    \n",
      "            'LM' : Largest (in magnitude) eigenvalues.\n",
      "    \n",
      "            'SM' : Smallest (in magnitude) eigenvalues.\n",
      "    \n",
      "            'LA' : Largest (algebraic) eigenvalues.\n",
      "    \n",
      "            'SA' : Smallest (algebraic) eigenvalues.\n",
      "    \n",
      "            'BE' : Half (k/2) from each end of the spectrum.\n",
      "    \n",
      "        When k is odd, return one more (k/2+1) from the high end.\n",
      "        When sigma != None, 'which' refers to the shifted eigenvalues ``w'[i]``\n",
      "        (see discussion in 'sigma', above).  ARPACK is generally better\n",
      "        at finding large values than small values.  If small eigenvalues are\n",
      "        desired, consider using shift-invert mode for better performance.\n",
      "    maxiter : int, optional\n",
      "        Maximum number of Arnoldi update iterations allowed.\n",
      "        Default: ``n*10``\n",
      "    tol : float\n",
      "        Relative accuracy for eigenvalues (stopping criterion).\n",
      "        The default value of 0 implies machine precision.\n",
      "    Minv : N x N matrix, array, sparse matrix, or LinearOperator\n",
      "        See notes in M, above.\n",
      "    OPinv : N x N matrix, array, sparse matrix, or LinearOperator\n",
      "        See notes in sigma, above.\n",
      "    return_eigenvectors : bool\n",
      "        Return eigenvectors (True) in addition to eigenvalues.\n",
      "        This value determines the order in which eigenvalues are sorted.\n",
      "        The sort order is also dependent on the `which` variable.\n",
      "    \n",
      "            For which = 'LM' or 'SA':\n",
      "                If `return_eigenvectors` is True, eigenvalues are sorted by\n",
      "                algebraic value.\n",
      "    \n",
      "                If `return_eigenvectors` is False, eigenvalues are sorted by\n",
      "                absolute value.\n",
      "    \n",
      "            For which = 'BE' or 'LA':\n",
      "                eigenvalues are always sorted by algebraic value.\n",
      "    \n",
      "            For which = 'SM':\n",
      "                If `return_eigenvectors` is True, eigenvalues are sorted by\n",
      "                algebraic value.\n",
      "    \n",
      "                If `return_eigenvectors` is False, eigenvalues are sorted by\n",
      "                decreasing absolute value.\n",
      "    \n",
      "    mode : string ['normal' | 'buckling' | 'cayley']\n",
      "        Specify strategy to use for shift-invert mode.  This argument applies\n",
      "        only for real-valued A and sigma != None.  For shift-invert mode,\n",
      "        ARPACK internally solves the eigenvalue problem\n",
      "        ``OP * x'[i] = w'[i] * B * x'[i]``\n",
      "        and transforms the resulting Ritz vectors x'[i] and Ritz values w'[i]\n",
      "        into the desired eigenvectors and eigenvalues of the problem\n",
      "        ``A * x[i] = w[i] * M * x[i]``.\n",
      "        The modes are as follows:\n",
      "    \n",
      "            'normal' :\n",
      "                OP = [A - sigma * M]^-1 @ M,\n",
      "                B = M,\n",
      "                w'[i] = 1 / (w[i] - sigma)\n",
      "    \n",
      "            'buckling' :\n",
      "                OP = [A - sigma * M]^-1 @ A,\n",
      "                B = A,\n",
      "                w'[i] = w[i] / (w[i] - sigma)\n",
      "    \n",
      "            'cayley' :\n",
      "                OP = [A - sigma * M]^-1 @ [A + sigma * M],\n",
      "                B = M,\n",
      "                w'[i] = (w[i] + sigma) / (w[i] - sigma)\n",
      "    \n",
      "        The choice of mode will affect which eigenvalues are selected by\n",
      "        the keyword 'which', and can also impact the stability of\n",
      "        convergence (see [2] for a discussion).\n",
      "    \n",
      "    Raises\n",
      "    ------\n",
      "    ArpackNoConvergence\n",
      "        When the requested convergence is not obtained.\n",
      "    \n",
      "        The currently converged eigenvalues and eigenvectors can be found\n",
      "        as ``eigenvalues`` and ``eigenvectors`` attributes of the exception\n",
      "        object.\n",
      "    \n",
      "    See Also\n",
      "    --------\n",
      "    eigs : eigenvalues and eigenvectors for a general (nonsymmetric) matrix A\n",
      "    svds : singular value decomposition for a matrix A\n",
      "    \n",
      "    Notes\n",
      "    -----\n",
      "    This function is a wrapper to the ARPACK [1]_ SSEUPD and DSEUPD\n",
      "    functions which use the Implicitly Restarted Lanczos Method to\n",
      "    find the eigenvalues and eigenvectors [2]_.\n",
      "    \n",
      "    References\n",
      "    ----------\n",
      "    .. [1] ARPACK Software, http://www.caam.rice.edu/software/ARPACK/\n",
      "    .. [2] R. B. Lehoucq, D. C. Sorensen, and C. Yang,  ARPACK USERS GUIDE:\n",
      "       Solution of Large Scale Eigenvalue Problems by Implicitly Restarted\n",
      "       Arnoldi Methods. SIAM, Philadelphia, PA, 1998.\n",
      "    \n",
      "    Examples\n",
      "    --------\n",
      "    >>> from scipy.sparse.linalg import eigsh\n",
      "    >>> identity = np.eye(13)\n",
      "    >>> eigenvalues, eigenvectors = eigsh(identity, k=6)\n",
      "    >>> eigenvalues\n",
      "    array([1., 1., 1., 1., 1., 1.])\n",
      "    >>> eigenvectors.shape\n",
      "    (13, 6)\n",
      "\n"
     ]
    }
   ],
   "source": [
    "import scipy\n",
    "help(scipy.sparse.linalg.eigsh)"
   ]
  },
  {
   "cell_type": "code",
   "execution_count": 48,
   "metadata": {},
   "outputs": [],
   "source": [
    "#W,V=np.linalg.eigh(L)"
   ]
  },
  {
   "cell_type": "code",
   "execution_count": 49,
   "metadata": {},
   "outputs": [],
   "source": [
    "W,V=eigsh(L,which='SA') #six (by default) eignvalues are sorted in desceding order (by which='SA')"
   ]
  },
  {
   "cell_type": "code",
   "execution_count": 50,
   "metadata": {},
   "outputs": [
    {
     "data": {
      "text/plain": [
       "(6,)"
      ]
     },
     "execution_count": 50,
     "metadata": {},
     "output_type": "execute_result"
    }
   ],
   "source": [
    "W.shape"
   ]
  },
  {
   "cell_type": "code",
   "execution_count": 36,
   "metadata": {},
   "outputs": [
    {
     "data": {
      "text/plain": [
       "array([9.43454055e-15, 4.61281076e+01, 1.94073255e+02, 1.95708249e+02,\n",
       "       1.96002661e+02, 1.96658632e+02])"
      ]
     },
     "execution_count": 36,
     "metadata": {},
     "output_type": "execute_result"
    }
   ],
   "source": [
    "W"
   ]
  },
  {
   "cell_type": "code",
   "execution_count": 53,
   "metadata": {},
   "outputs": [
    {
     "data": {
      "text/plain": [
       "array([-0.02646778, -0.02551573, -0.02654554,  0.03561845, -0.02475164,\n",
       "       -0.02793104, -0.02628675,  0.0349672 ,  0.03505671, -0.02811831,\n",
       "        0.03685425,  0.03421477,  0.03475279,  0.03366735,  0.03409828,\n",
       "        0.03477026, -0.0263829 , -0.02673524,  0.03497583, -0.02501351,\n",
       "        0.03401646, -0.02308503,  0.03520983,  0.0339452 , -0.02535132,\n",
       "        0.03487783,  0.03443812,  0.03354319, -0.02645851,  0.03477921,\n",
       "       -0.02828716, -0.02402382, -0.02773793,  0.03497679,  0.03469651,\n",
       "        0.03439932, -0.02619893,  0.03434091, -0.02609461,  0.03539561,\n",
       "       -0.02930308, -0.02796763, -0.02283379,  0.03454142, -0.02639907,\n",
       "        0.03418988, -0.02510184,  0.03477916, -0.02677494, -0.02810743,\n",
       "        0.0333551 , -0.02717259,  0.03396058,  0.03521551, -0.02650249,\n",
       "        0.03380698,  0.03542961, -0.02846482, -0.02872546,  0.0345022 ,\n",
       "        0.03372336, -0.02860776, -0.02642716,  0.03451337, -0.02632383,\n",
       "        0.0330232 ,  0.03373047,  0.03445911,  0.032982  , -0.02384763,\n",
       "        0.03547843, -0.02860217, -0.02925308, -0.02663071, -0.02540927,\n",
       "       -0.0270001 , -0.0288709 , -0.02533248,  0.03366387, -0.02845929,\n",
       "        0.03212675, -0.02707933, -0.0291769 ,  0.03320861,  0.03399268,\n",
       "        0.03468416,  0.03411529,  0.03310724,  0.03308687, -0.02784621,\n",
       "        0.03329224,  0.03293596,  0.03393295,  0.03340505, -0.02969517,\n",
       "       -0.02558645,  0.03407375, -0.02718641, -0.0282356 , -0.02855547,\n",
       "       -0.03010693,  0.03346436,  0.03357733, -0.02490366,  0.03342417,\n",
       "        0.03314953,  0.03334131,  0.03282217,  0.03384266, -0.02969586,\n",
       "       -0.02415724,  0.03301736, -0.0285811 , -0.0234649 ,  0.03309737,\n",
       "        0.03257141,  0.03316934,  0.03469213, -0.03091045, -0.0289053 ,\n",
       "        0.0325107 ,  0.03169882, -0.0279791 ,  0.03207794,  0.03468108,\n",
       "        0.0340538 ,  0.03448586,  0.03541721,  0.03369883, -0.03115144,\n",
       "       -0.02903219,  0.03137167,  0.03282622, -0.02927075, -0.02565884,\n",
       "        0.03383441, -0.0313165 , -0.02735682, -0.02845047, -0.02883794,\n",
       "        0.03272513, -0.0278772 ,  0.03274645, -0.02748739, -0.02845976,\n",
       "       -0.02687532,  0.03304619, -0.02868798, -0.03170277,  0.03314141,\n",
       "        0.03318603,  0.03377231,  0.03132514,  0.03244538,  0.03366719,\n",
       "        0.03376882,  0.0325226 ,  0.03234581,  0.03412687,  0.03086541,\n",
       "        0.0323051 ,  0.03357047,  0.03312954, -0.02888416,  0.03266804,\n",
       "       -0.02773457,  0.03309281, -0.03101837,  0.03483417, -0.0309473 ,\n",
       "       -0.02919953, -0.02811915, -0.0297201 ,  0.03219243,  0.03347803,\n",
       "        0.03202691, -0.02824879,  0.03239832,  0.031988  , -0.02847778,\n",
       "       -0.02855642,  0.02949942,  0.03281688,  0.03199271,  0.0315488 ,\n",
       "        0.0321932 ,  0.03160656,  0.03280583,  0.03154569, -0.02938034,\n",
       "       -0.02735041,  0.03435931, -0.0256566 ,  0.03257596, -0.02577673,\n",
       "        0.03208276, -0.02919648,  0.03270376,  0.03244856,  0.03391232,\n",
       "       -0.02880117,  0.03164727,  0.03157121, -0.02821719, -0.02705607,\n",
       "       -0.02961149,  0.03072383, -0.03176167,  0.03129447, -0.02845346,\n",
       "       -0.02837967,  0.03002908, -0.02846337, -0.03168303,  0.03353145,\n",
       "        0.03031558,  0.03138393,  0.0323529 , -0.02585539, -0.02971149,\n",
       "       -0.02786863,  0.03217823,  0.0316509 , -0.03041597, -0.02828328,\n",
       "        0.03160343,  0.03203714, -0.03008613,  0.03225429,  0.03255261,\n",
       "        0.03166585,  0.02951537,  0.03047425, -0.0303792 , -0.03161205,\n",
       "        0.03203296,  0.03180001,  0.0309261 ,  0.03315594, -0.03063258,\n",
       "       -0.03210165,  0.03328839, -0.03120908, -0.03043432,  0.03153941,\n",
       "       -0.02890542, -0.02646785,  0.03068867,  0.03057676, -0.0291184 ,\n",
       "        0.03013893, -0.02878338,  0.03273885,  0.03175348, -0.03191596,\n",
       "       -0.03076436,  0.02997975, -0.03217974, -0.0337104 ,  0.0320168 ,\n",
       "        0.02807457, -0.03174299, -0.03011711,  0.03228726,  0.03044219,\n",
       "        0.0325469 ,  0.03155775,  0.0329245 ,  0.03027157,  0.03076498,\n",
       "        0.03150203, -0.02980575,  0.03033468, -0.02770248,  0.03174859,\n",
       "        0.03168795, -0.03091827, -0.03113589, -0.03182038,  0.03017339,\n",
       "        0.03071229,  0.03020091,  0.02986995,  0.03127933,  0.03088817,\n",
       "        0.03121556,  0.03169339, -0.03110462,  0.03089862,  0.03160561,\n",
       "       -0.02992561,  0.03099482,  0.03063078,  0.03123348,  0.03140402,\n",
       "        0.03155219, -0.03306403,  0.02876687,  0.03120972, -0.03319141,\n",
       "       -0.03136686,  0.03103579,  0.02932072,  0.03051775, -0.03188162,\n",
       "        0.0301848 , -0.03414001, -0.02916393,  0.03295345,  0.02949913,\n",
       "        0.03080304,  0.03065092,  0.03027613, -0.03133518,  0.02962749,\n",
       "       -0.0319913 ,  0.03101157, -0.03019318,  0.03272754,  0.03212148,\n",
       "        0.0302467 , -0.02962359,  0.03275812, -0.03309537,  0.03223214,\n",
       "       -0.03238698,  0.03032228,  0.03159692, -0.03063131,  0.02731607,\n",
       "       -0.03046111,  0.03033361, -0.03151729,  0.02984556, -0.03193926,\n",
       "       -0.03416843,  0.02836778,  0.02988819,  0.02948347, -0.03432717,\n",
       "        0.03169243, -0.03147113, -0.03259293, -0.02939334, -0.03089323,\n",
       "        0.02934359, -0.03088134,  0.02968594,  0.02908704, -0.03090038,\n",
       "        0.03087542,  0.03242883,  0.02927158,  0.03028194, -0.0323401 ,\n",
       "       -0.03190461,  0.02991342, -0.03266994,  0.02886381,  0.03040067,\n",
       "        0.0308781 ,  0.0294231 , -0.03281586, -0.03206713, -0.03354038,\n",
       "       -0.03411146,  0.03007568, -0.03335528,  0.03085286, -0.03051553,\n",
       "       -0.03243492, -0.03332761, -0.03279682, -0.03297789, -0.03330565,\n",
       "        0.0302364 ,  0.03133322,  0.02985531,  0.02894532,  0.02871579,\n",
       "        0.02866362, -0.03105351, -0.03241463, -0.031405  , -0.03391822,\n",
       "        0.03077906, -0.0323896 ,  0.02774706, -0.03337623,  0.02943502,\n",
       "        0.03003907, -0.03185137,  0.02812564,  0.0305032 , -0.0322029 ,\n",
       "        0.03038619,  0.0300058 ,  0.03186011, -0.03325024,  0.03011765,\n",
       "        0.03144042, -0.03101256,  0.031331  , -0.03298535, -0.02994301,\n",
       "        0.02877085,  0.02922805,  0.02816109, -0.03149645,  0.0263073 ,\n",
       "        0.02813296, -0.03257056,  0.02802947,  0.03021296, -0.03256946,\n",
       "       -0.03156685, -0.0320514 ,  0.02778876, -0.03286042,  0.02880183,\n",
       "       -0.03313022, -0.03301153,  0.02799177,  0.02984519,  0.02879287,\n",
       "        0.03159493, -0.03317225, -0.03359616,  0.02806587, -0.03310499,\n",
       "       -0.03286941,  0.02776686, -0.03413338,  0.03013057,  0.03222802,\n",
       "       -0.03572725,  0.03046564,  0.02954615,  0.02790049,  0.02927374,\n",
       "        0.02999682,  0.02834204,  0.02865805,  0.02993139, -0.0339676 ,\n",
       "        0.02967161, -0.0333806 ,  0.02777463, -0.03477973,  0.02676388,\n",
       "        0.02827459, -0.03176366, -0.03379382, -0.03321229,  0.02983659,\n",
       "        0.02701232,  0.03148156,  0.02856917, -0.03040917, -0.03530873,\n",
       "        0.02978832, -0.03172036,  0.02738379,  0.02769671,  0.02976589,\n",
       "       -0.03454575,  0.02729104,  0.02821885,  0.02903091, -0.03270493,\n",
       "       -0.03357053,  0.02586668, -0.0307481 , -0.03421388,  0.02865731,\n",
       "        0.03031502, -0.03372158,  0.02820537,  0.02869719,  0.0277507 ,\n",
       "       -0.03251218,  0.03011765, -0.03327926,  0.02854175, -0.03417673,\n",
       "       -0.03339713, -0.03550577, -0.03495357, -0.03247587,  0.02947304,\n",
       "       -0.03336847, -0.03378199,  0.02824846,  0.02645574, -0.03147929,\n",
       "        0.03030781,  0.02631788,  0.029932  , -0.0323136 ,  0.02685589,\n",
       "       -0.03442668,  0.02856028,  0.02903448, -0.03434203, -0.0329678 ,\n",
       "       -0.03372426,  0.02801787, -0.03369783,  0.02727878, -0.03478734,\n",
       "        0.03028415, -0.03406139, -0.03538065,  0.0280584 ,  0.02802289,\n",
       "        0.02797333,  0.0294443 ,  0.03016694,  0.02795861, -0.03250807,\n",
       "        0.02801436, -0.03399507,  0.02843178, -0.03461393, -0.03534332,\n",
       "       -0.03492722, -0.03527579,  0.02844658,  0.02922313, -0.03561647,\n",
       "        0.0272056 ,  0.02690349, -0.03587904,  0.02850363, -0.03677007,\n",
       "        0.02617101, -0.03530106, -0.03460421,  0.02930409, -0.03232654,\n",
       "        0.02786306, -0.03253056,  0.02624137,  0.02832491, -0.03525762,\n",
       "       -0.03547217,  0.02867983,  0.02679859,  0.02722129,  0.02784978,\n",
       "       -0.03501234,  0.02695546,  0.02789119, -0.03648059, -0.03569813,\n",
       "        0.02798802,  0.02888791, -0.03410154,  0.02557913, -0.03476478,\n",
       "        0.02682666, -0.03288761,  0.02773718,  0.02706781, -0.03650177,\n",
       "        0.02865469, -0.033793  , -0.03750723, -0.03422904,  0.02723855,\n",
       "        0.02460247,  0.02664845,  0.02749526,  0.02561991,  0.02668238,\n",
       "        0.02752841,  0.03009712,  0.02665581, -0.03392944,  0.02686413,\n",
       "        0.02869432,  0.02784199, -0.03621856,  0.0266353 ,  0.02585495,\n",
       "       -0.03806773, -0.03472853, -0.03737517,  0.02659135,  0.02612792,\n",
       "        0.02612241, -0.03639671,  0.02633713, -0.03824402, -0.0339209 ,\n",
       "        0.02658297,  0.02769986,  0.02571647,  0.03001407,  0.02536964,\n",
       "        0.02536763,  0.02838795, -0.03617346,  0.02789584, -0.03707788,\n",
       "        0.02600613,  0.02770541,  0.02723914,  0.02565878, -0.03793226,\n",
       "       -0.03522917,  0.02977133,  0.02661717, -0.03677005,  0.02470208,\n",
       "        0.02775011, -0.03749746, -0.03443064, -0.03655668, -0.03797883,\n",
       "       -0.03669612, -0.03500021, -0.03539036,  0.02585055,  0.02661653,\n",
       "       -0.03854327, -0.0369186 ,  0.02713302,  0.02476054,  0.02564619,\n",
       "       -0.03582901,  0.02736789,  0.02643442,  0.02819376, -0.03805821,\n",
       "        0.02568347, -0.03688604, -0.03872496, -0.03728601,  0.02558696,\n",
       "       -0.03682117, -0.03761224,  0.02519559,  0.02525177,  0.02572353,\n",
       "        0.02425499, -0.03717016, -0.03564866, -0.04027434,  0.02328675,\n",
       "        0.02692129,  0.02613028, -0.03673838,  0.02839799, -0.03887608,\n",
       "        0.02741673,  0.02706471, -0.03409659,  0.02744364,  0.02583837,\n",
       "        0.02801381,  0.0267117 , -0.04001216,  0.02610579,  0.02549514,\n",
       "        0.02907161,  0.0268925 , -0.03692797, -0.03694175, -0.03565798,\n",
       "        0.02738847,  0.02702135,  0.02557312,  0.02346756, -0.03807723,\n",
       "       -0.03806803, -0.03638844,  0.02604552,  0.02390607, -0.03743962,\n",
       "       -0.03657932, -0.03930121, -0.03921922,  0.02663658, -0.03720533,\n",
       "        0.02696977,  0.02658339, -0.03661555, -0.03824289,  0.0246766 ,\n",
       "        0.02781458, -0.03746566,  0.02608149,  0.02307857, -0.03881803,\n",
       "       -0.03522957,  0.02354618,  0.02614206, -0.03870752,  0.02537952,\n",
       "       -0.0366316 ,  0.0270912 ,  0.02735873, -0.03829798,  0.02498398,\n",
       "       -0.03861147, -0.03693588,  0.02910043, -0.03838123,  0.02694504,\n",
       "        0.02663622, -0.03756906, -0.0363812 , -0.03784346,  0.02507428,\n",
       "       -0.03866319, -0.03477648, -0.03965855,  0.02755512, -0.03954219,\n",
       "        0.02530883, -0.03862107,  0.02502815, -0.03865505,  0.02259686,\n",
       "        0.02644178, -0.03989365,  0.02547792,  0.02243371,  0.02510778,\n",
       "       -0.03683462, -0.03986523,  0.02409062,  0.02508312, -0.03860599,\n",
       "       -0.03885526,  0.02507328, -0.03731468,  0.02334713, -0.03860916,\n",
       "       -0.03808025,  0.02609206,  0.02454592,  0.02385096,  0.02555317,\n",
       "        0.02505783, -0.03932333,  0.02091817,  0.02340424,  0.02334668,\n",
       "        0.02750692,  0.02659706,  0.02273695, -0.03918355,  0.02366991,\n",
       "        0.02407274, -0.04030821,  0.02535656,  0.02610909,  0.02552394,\n",
       "       -0.03900948, -0.03824831, -0.04010941, -0.03761354,  0.02699759,\n",
       "       -0.03901433, -0.03788383, -0.03973285,  0.02326876,  0.02533076,\n",
       "        0.02470361, -0.03788224, -0.03824092, -0.03960759,  0.02222048,\n",
       "       -0.03872634, -0.03870987,  0.02572401, -0.03987822, -0.03969908,\n",
       "       -0.04007261,  0.02151467, -0.03982426,  0.02381463,  0.02570212,\n",
       "       -0.03827714, -0.03756892, -0.03812318, -0.03899107, -0.0371842 ,\n",
       "        0.02510844, -0.03934971,  0.0246216 ,  0.02656902,  0.02475366,\n",
       "        0.02426075, -0.04021945,  0.02489312,  0.02095192,  0.02408692,\n",
       "       -0.03943269, -0.04228246, -0.0397895 ,  0.02321321,  0.02473099,\n",
       "        0.02546664,  0.02336866, -0.03820589, -0.04205622, -0.04061283,\n",
       "        0.0245024 ,  0.02325702,  0.02381521, -0.03905309,  0.02247491,\n",
       "       -0.03781622, -0.0374617 , -0.04075175,  0.02228558, -0.04039081,\n",
       "       -0.04022617, -0.03930466, -0.03854327, -0.03859145, -0.03970129,\n",
       "       -0.03945196, -0.04021178,  0.02310602,  0.02285482,  0.02432381,\n",
       "        0.02323301,  0.02491113, -0.04129481,  0.02373674,  0.02391283,\n",
       "        0.02447875, -0.03990737,  0.02345161,  0.02618705, -0.03956186,\n",
       "        0.02366501,  0.02378919,  0.02454484, -0.03996214, -0.03942682,\n",
       "        0.02640437,  0.02681304, -0.03914752, -0.04009988,  0.02243025,\n",
       "        0.02166576, -0.03826173, -0.04022465,  0.02127663, -0.04012609,\n",
       "       -0.03968856,  0.02344905, -0.03975317, -0.03885164, -0.04038244,\n",
       "        0.02377237, -0.04110333, -0.04151761,  0.0224545 ,  0.02519543,\n",
       "       -0.03967413, -0.03949246,  0.02145192, -0.03980311,  0.02332924,\n",
       "       -0.03987867, -0.03925412, -0.04105651,  0.0217593 , -0.04069701,\n",
       "       -0.04056939,  0.02035028,  0.02503638,  0.02387525, -0.03932301,\n",
       "        0.02432831, -0.0401218 , -0.04110196,  0.02067331,  0.02248887,\n",
       "        0.02286802, -0.04064404,  0.02110023, -0.04079725, -0.04201877,\n",
       "        0.02301656,  0.02321225, -0.04070679, -0.04109565,  0.02173203,\n",
       "        0.02375936,  0.02350717, -0.04064832,  0.02208431,  0.02165108,\n",
       "        0.02358821,  0.02400575,  0.02281631,  0.02124345, -0.04139843,\n",
       "        0.0231929 , -0.04057088,  0.02156407,  0.02474969,  0.02632025,\n",
       "       -0.04076038, -0.04116365,  0.02150317,  0.02530228,  0.02281087,\n",
       "        0.01959524, -0.04033977,  0.02016519, -0.0425198 ,  0.0236648 ,\n",
       "       -0.04222879,  0.02525235, -0.04136798, -0.04325917,  0.02229028,\n",
       "       -0.04240107,  0.02045078,  0.02084499, -0.04075362, -0.04105324,\n",
       "        0.02376207, -0.04151126, -0.04130326,  0.02156997,  0.02057221,\n",
       "        0.02106153,  0.02392367,  0.02074959,  0.01941284, -0.04337572,\n",
       "       -0.04238621,  0.02329777,  0.02334951, -0.04139669, -0.04221514,\n",
       "       -0.04303804,  0.01926975, -0.04401396,  0.01912455, -0.04111491,\n",
       "        0.01914507, -0.04224182, -0.04218742,  0.02331771,  0.02155498,\n",
       "       -0.04214227, -0.04165229, -0.04303847,  0.02195788, -0.04171873,\n",
       "       -0.04166212,  0.023692  , -0.04209565,  0.02153296,  0.02015063,\n",
       "       -0.0420036 , -0.04242747, -0.04229628, -0.0419997 ,  0.0191481 ,\n",
       "        0.02030344, -0.04248353,  0.0205735 ,  0.02181965, -0.04312881,\n",
       "        0.02136324, -0.04154338, -0.04262863, -0.0418273 , -0.04132367,\n",
       "        0.021458  , -0.04216732, -0.04239696,  0.02013571,  0.01870031,\n",
       "       -0.04267496, -0.04259247,  0.02020973,  0.02025723, -0.04198428,\n",
       "       -0.04240215, -0.04206275, -0.0429699 ,  0.02396132, -0.04338183,\n",
       "        0.02054489, -0.04273316, -0.04241958,  0.01887189,  0.0225759 ])"
      ]
     },
     "execution_count": 53,
     "metadata": {},
     "output_type": "execute_result"
    }
   ],
   "source": [
    "V[:,1]"
   ]
  },
  {
   "cell_type": "code",
   "execution_count": 54,
   "metadata": {},
   "outputs": [
    {
     "data": {
      "text/plain": [
       "(-5.555028022724528e-15, 196.8823203848625)"
      ]
     },
     "execution_count": 54,
     "metadata": {},
     "output_type": "execute_result"
    }
   ],
   "source": [
    "min(W),max(W)"
   ]
  },
  {
   "cell_type": "code",
   "execution_count": 55,
   "metadata": {},
   "outputs": [
    {
     "data": {
      "text/plain": [
       "array([-5.55502802e-15,  4.25671101e+01,  1.76032818e+02,  1.78353227e+02,\n",
       "        1.94511656e+02,  1.96882320e+02])"
      ]
     },
     "execution_count": 55,
     "metadata": {},
     "output_type": "execute_result"
    }
   ],
   "source": [
    "W"
   ]
  },
  {
   "cell_type": "code",
   "execution_count": 56,
   "metadata": {},
   "outputs": [
    {
     "data": {
      "text/plain": [
       "array([0.03162278, 0.03162278, 0.03162278, 0.03162278, 0.03162278,\n",
       "       0.03162278, 0.03162278, 0.03162278, 0.03162278, 0.03162278,\n",
       "       0.03162278, 0.03162278, 0.03162278, 0.03162278, 0.03162278,\n",
       "       0.03162278, 0.03162278, 0.03162278, 0.03162278, 0.03162278,\n",
       "       0.03162278, 0.03162278, 0.03162278, 0.03162278, 0.03162278,\n",
       "       0.03162278, 0.03162278, 0.03162278, 0.03162278, 0.03162278,\n",
       "       0.03162278, 0.03162278, 0.03162278, 0.03162278, 0.03162278,\n",
       "       0.03162278, 0.03162278, 0.03162278, 0.03162278, 0.03162278,\n",
       "       0.03162278, 0.03162278, 0.03162278, 0.03162278, 0.03162278,\n",
       "       0.03162278, 0.03162278, 0.03162278, 0.03162278, 0.03162278,\n",
       "       0.03162278, 0.03162278, 0.03162278, 0.03162278, 0.03162278,\n",
       "       0.03162278, 0.03162278, 0.03162278, 0.03162278, 0.03162278,\n",
       "       0.03162278, 0.03162278, 0.03162278, 0.03162278, 0.03162278,\n",
       "       0.03162278, 0.03162278, 0.03162278, 0.03162278, 0.03162278,\n",
       "       0.03162278, 0.03162278, 0.03162278, 0.03162278, 0.03162278,\n",
       "       0.03162278, 0.03162278, 0.03162278, 0.03162278, 0.03162278,\n",
       "       0.03162278, 0.03162278, 0.03162278, 0.03162278, 0.03162278,\n",
       "       0.03162278, 0.03162278, 0.03162278, 0.03162278, 0.03162278,\n",
       "       0.03162278, 0.03162278, 0.03162278, 0.03162278, 0.03162278,\n",
       "       0.03162278, 0.03162278, 0.03162278, 0.03162278, 0.03162278,\n",
       "       0.03162278, 0.03162278, 0.03162278, 0.03162278, 0.03162278,\n",
       "       0.03162278, 0.03162278, 0.03162278, 0.03162278, 0.03162278,\n",
       "       0.03162278, 0.03162278, 0.03162278, 0.03162278, 0.03162278,\n",
       "       0.03162278, 0.03162278, 0.03162278, 0.03162278, 0.03162278,\n",
       "       0.03162278, 0.03162278, 0.03162278, 0.03162278, 0.03162278,\n",
       "       0.03162278, 0.03162278, 0.03162278, 0.03162278, 0.03162278,\n",
       "       0.03162278, 0.03162278, 0.03162278, 0.03162278, 0.03162278,\n",
       "       0.03162278, 0.03162278, 0.03162278, 0.03162278, 0.03162278,\n",
       "       0.03162278, 0.03162278, 0.03162278, 0.03162278, 0.03162278,\n",
       "       0.03162278, 0.03162278, 0.03162278, 0.03162278, 0.03162278,\n",
       "       0.03162278, 0.03162278, 0.03162278, 0.03162278, 0.03162278,\n",
       "       0.03162278, 0.03162278, 0.03162278, 0.03162278, 0.03162278,\n",
       "       0.03162278, 0.03162278, 0.03162278, 0.03162278, 0.03162278,\n",
       "       0.03162278, 0.03162278, 0.03162278, 0.03162278, 0.03162278,\n",
       "       0.03162278, 0.03162278, 0.03162278, 0.03162278, 0.03162278,\n",
       "       0.03162278, 0.03162278, 0.03162278, 0.03162278, 0.03162278,\n",
       "       0.03162278, 0.03162278, 0.03162278, 0.03162278, 0.03162278,\n",
       "       0.03162278, 0.03162278, 0.03162278, 0.03162278, 0.03162278,\n",
       "       0.03162278, 0.03162278, 0.03162278, 0.03162278, 0.03162278,\n",
       "       0.03162278, 0.03162278, 0.03162278, 0.03162278, 0.03162278,\n",
       "       0.03162278, 0.03162278, 0.03162278, 0.03162278, 0.03162278,\n",
       "       0.03162278, 0.03162278, 0.03162278, 0.03162278, 0.03162278,\n",
       "       0.03162278, 0.03162278, 0.03162278, 0.03162278, 0.03162278,\n",
       "       0.03162278, 0.03162278, 0.03162278, 0.03162278, 0.03162278,\n",
       "       0.03162278, 0.03162278, 0.03162278, 0.03162278, 0.03162278,\n",
       "       0.03162278, 0.03162278, 0.03162278, 0.03162278, 0.03162278,\n",
       "       0.03162278, 0.03162278, 0.03162278, 0.03162278, 0.03162278,\n",
       "       0.03162278, 0.03162278, 0.03162278, 0.03162278, 0.03162278,\n",
       "       0.03162278, 0.03162278, 0.03162278, 0.03162278, 0.03162278,\n",
       "       0.03162278, 0.03162278, 0.03162278, 0.03162278, 0.03162278,\n",
       "       0.03162278, 0.03162278, 0.03162278, 0.03162278, 0.03162278,\n",
       "       0.03162278, 0.03162278, 0.03162278, 0.03162278, 0.03162278,\n",
       "       0.03162278, 0.03162278, 0.03162278, 0.03162278, 0.03162278,\n",
       "       0.03162278, 0.03162278, 0.03162278, 0.03162278, 0.03162278,\n",
       "       0.03162278, 0.03162278, 0.03162278, 0.03162278, 0.03162278,\n",
       "       0.03162278, 0.03162278, 0.03162278, 0.03162278, 0.03162278,\n",
       "       0.03162278, 0.03162278, 0.03162278, 0.03162278, 0.03162278,\n",
       "       0.03162278, 0.03162278, 0.03162278, 0.03162278, 0.03162278,\n",
       "       0.03162278, 0.03162278, 0.03162278, 0.03162278, 0.03162278,\n",
       "       0.03162278, 0.03162278, 0.03162278, 0.03162278, 0.03162278,\n",
       "       0.03162278, 0.03162278, 0.03162278, 0.03162278, 0.03162278,\n",
       "       0.03162278, 0.03162278, 0.03162278, 0.03162278, 0.03162278,\n",
       "       0.03162278, 0.03162278, 0.03162278, 0.03162278, 0.03162278,\n",
       "       0.03162278, 0.03162278, 0.03162278, 0.03162278, 0.03162278,\n",
       "       0.03162278, 0.03162278, 0.03162278, 0.03162278, 0.03162278,\n",
       "       0.03162278, 0.03162278, 0.03162278, 0.03162278, 0.03162278,\n",
       "       0.03162278, 0.03162278, 0.03162278, 0.03162278, 0.03162278,\n",
       "       0.03162278, 0.03162278, 0.03162278, 0.03162278, 0.03162278,\n",
       "       0.03162278, 0.03162278, 0.03162278, 0.03162278, 0.03162278,\n",
       "       0.03162278, 0.03162278, 0.03162278, 0.03162278, 0.03162278,\n",
       "       0.03162278, 0.03162278, 0.03162278, 0.03162278, 0.03162278,\n",
       "       0.03162278, 0.03162278, 0.03162278, 0.03162278, 0.03162278,\n",
       "       0.03162278, 0.03162278, 0.03162278, 0.03162278, 0.03162278,\n",
       "       0.03162278, 0.03162278, 0.03162278, 0.03162278, 0.03162278,\n",
       "       0.03162278, 0.03162278, 0.03162278, 0.03162278, 0.03162278,\n",
       "       0.03162278, 0.03162278, 0.03162278, 0.03162278, 0.03162278,\n",
       "       0.03162278, 0.03162278, 0.03162278, 0.03162278, 0.03162278,\n",
       "       0.03162278, 0.03162278, 0.03162278, 0.03162278, 0.03162278,\n",
       "       0.03162278, 0.03162278, 0.03162278, 0.03162278, 0.03162278,\n",
       "       0.03162278, 0.03162278, 0.03162278, 0.03162278, 0.03162278,\n",
       "       0.03162278, 0.03162278, 0.03162278, 0.03162278, 0.03162278,\n",
       "       0.03162278, 0.03162278, 0.03162278, 0.03162278, 0.03162278,\n",
       "       0.03162278, 0.03162278, 0.03162278, 0.03162278, 0.03162278,\n",
       "       0.03162278, 0.03162278, 0.03162278, 0.03162278, 0.03162278,\n",
       "       0.03162278, 0.03162278, 0.03162278, 0.03162278, 0.03162278,\n",
       "       0.03162278, 0.03162278, 0.03162278, 0.03162278, 0.03162278,\n",
       "       0.03162278, 0.03162278, 0.03162278, 0.03162278, 0.03162278,\n",
       "       0.03162278, 0.03162278, 0.03162278, 0.03162278, 0.03162278,\n",
       "       0.03162278, 0.03162278, 0.03162278, 0.03162278, 0.03162278,\n",
       "       0.03162278, 0.03162278, 0.03162278, 0.03162278, 0.03162278,\n",
       "       0.03162278, 0.03162278, 0.03162278, 0.03162278, 0.03162278,\n",
       "       0.03162278, 0.03162278, 0.03162278, 0.03162278, 0.03162278,\n",
       "       0.03162278, 0.03162278, 0.03162278, 0.03162278, 0.03162278,\n",
       "       0.03162278, 0.03162278, 0.03162278, 0.03162278, 0.03162278,\n",
       "       0.03162278, 0.03162278, 0.03162278, 0.03162278, 0.03162278,\n",
       "       0.03162278, 0.03162278, 0.03162278, 0.03162278, 0.03162278,\n",
       "       0.03162278, 0.03162278, 0.03162278, 0.03162278, 0.03162278,\n",
       "       0.03162278, 0.03162278, 0.03162278, 0.03162278, 0.03162278,\n",
       "       0.03162278, 0.03162278, 0.03162278, 0.03162278, 0.03162278,\n",
       "       0.03162278, 0.03162278, 0.03162278, 0.03162278, 0.03162278,\n",
       "       0.03162278, 0.03162278, 0.03162278, 0.03162278, 0.03162278,\n",
       "       0.03162278, 0.03162278, 0.03162278, 0.03162278, 0.03162278,\n",
       "       0.03162278, 0.03162278, 0.03162278, 0.03162278, 0.03162278,\n",
       "       0.03162278, 0.03162278, 0.03162278, 0.03162278, 0.03162278,\n",
       "       0.03162278, 0.03162278, 0.03162278, 0.03162278, 0.03162278,\n",
       "       0.03162278, 0.03162278, 0.03162278, 0.03162278, 0.03162278,\n",
       "       0.03162278, 0.03162278, 0.03162278, 0.03162278, 0.03162278,\n",
       "       0.03162278, 0.03162278, 0.03162278, 0.03162278, 0.03162278,\n",
       "       0.03162278, 0.03162278, 0.03162278, 0.03162278, 0.03162278,\n",
       "       0.03162278, 0.03162278, 0.03162278, 0.03162278, 0.03162278,\n",
       "       0.03162278, 0.03162278, 0.03162278, 0.03162278, 0.03162278,\n",
       "       0.03162278, 0.03162278, 0.03162278, 0.03162278, 0.03162278,\n",
       "       0.03162278, 0.03162278, 0.03162278, 0.03162278, 0.03162278,\n",
       "       0.03162278, 0.03162278, 0.03162278, 0.03162278, 0.03162278,\n",
       "       0.03162278, 0.03162278, 0.03162278, 0.03162278, 0.03162278,\n",
       "       0.03162278, 0.03162278, 0.03162278, 0.03162278, 0.03162278,\n",
       "       0.03162278, 0.03162278, 0.03162278, 0.03162278, 0.03162278,\n",
       "       0.03162278, 0.03162278, 0.03162278, 0.03162278, 0.03162278,\n",
       "       0.03162278, 0.03162278, 0.03162278, 0.03162278, 0.03162278,\n",
       "       0.03162278, 0.03162278, 0.03162278, 0.03162278, 0.03162278,\n",
       "       0.03162278, 0.03162278, 0.03162278, 0.03162278, 0.03162278,\n",
       "       0.03162278, 0.03162278, 0.03162278, 0.03162278, 0.03162278,\n",
       "       0.03162278, 0.03162278, 0.03162278, 0.03162278, 0.03162278,\n",
       "       0.03162278, 0.03162278, 0.03162278, 0.03162278, 0.03162278,\n",
       "       0.03162278, 0.03162278, 0.03162278, 0.03162278, 0.03162278,\n",
       "       0.03162278, 0.03162278, 0.03162278, 0.03162278, 0.03162278,\n",
       "       0.03162278, 0.03162278, 0.03162278, 0.03162278, 0.03162278,\n",
       "       0.03162278, 0.03162278, 0.03162278, 0.03162278, 0.03162278,\n",
       "       0.03162278, 0.03162278, 0.03162278, 0.03162278, 0.03162278,\n",
       "       0.03162278, 0.03162278, 0.03162278, 0.03162278, 0.03162278,\n",
       "       0.03162278, 0.03162278, 0.03162278, 0.03162278, 0.03162278,\n",
       "       0.03162278, 0.03162278, 0.03162278, 0.03162278, 0.03162278,\n",
       "       0.03162278, 0.03162278, 0.03162278, 0.03162278, 0.03162278,\n",
       "       0.03162278, 0.03162278, 0.03162278, 0.03162278, 0.03162278,\n",
       "       0.03162278, 0.03162278, 0.03162278, 0.03162278, 0.03162278,\n",
       "       0.03162278, 0.03162278, 0.03162278, 0.03162278, 0.03162278,\n",
       "       0.03162278, 0.03162278, 0.03162278, 0.03162278, 0.03162278,\n",
       "       0.03162278, 0.03162278, 0.03162278, 0.03162278, 0.03162278,\n",
       "       0.03162278, 0.03162278, 0.03162278, 0.03162278, 0.03162278,\n",
       "       0.03162278, 0.03162278, 0.03162278, 0.03162278, 0.03162278,\n",
       "       0.03162278, 0.03162278, 0.03162278, 0.03162278, 0.03162278,\n",
       "       0.03162278, 0.03162278, 0.03162278, 0.03162278, 0.03162278,\n",
       "       0.03162278, 0.03162278, 0.03162278, 0.03162278, 0.03162278,\n",
       "       0.03162278, 0.03162278, 0.03162278, 0.03162278, 0.03162278,\n",
       "       0.03162278, 0.03162278, 0.03162278, 0.03162278, 0.03162278,\n",
       "       0.03162278, 0.03162278, 0.03162278, 0.03162278, 0.03162278,\n",
       "       0.03162278, 0.03162278, 0.03162278, 0.03162278, 0.03162278,\n",
       "       0.03162278, 0.03162278, 0.03162278, 0.03162278, 0.03162278,\n",
       "       0.03162278, 0.03162278, 0.03162278, 0.03162278, 0.03162278,\n",
       "       0.03162278, 0.03162278, 0.03162278, 0.03162278, 0.03162278,\n",
       "       0.03162278, 0.03162278, 0.03162278, 0.03162278, 0.03162278,\n",
       "       0.03162278, 0.03162278, 0.03162278, 0.03162278, 0.03162278,\n",
       "       0.03162278, 0.03162278, 0.03162278, 0.03162278, 0.03162278,\n",
       "       0.03162278, 0.03162278, 0.03162278, 0.03162278, 0.03162278,\n",
       "       0.03162278, 0.03162278, 0.03162278, 0.03162278, 0.03162278,\n",
       "       0.03162278, 0.03162278, 0.03162278, 0.03162278, 0.03162278,\n",
       "       0.03162278, 0.03162278, 0.03162278, 0.03162278, 0.03162278,\n",
       "       0.03162278, 0.03162278, 0.03162278, 0.03162278, 0.03162278,\n",
       "       0.03162278, 0.03162278, 0.03162278, 0.03162278, 0.03162278,\n",
       "       0.03162278, 0.03162278, 0.03162278, 0.03162278, 0.03162278,\n",
       "       0.03162278, 0.03162278, 0.03162278, 0.03162278, 0.03162278,\n",
       "       0.03162278, 0.03162278, 0.03162278, 0.03162278, 0.03162278,\n",
       "       0.03162278, 0.03162278, 0.03162278, 0.03162278, 0.03162278,\n",
       "       0.03162278, 0.03162278, 0.03162278, 0.03162278, 0.03162278,\n",
       "       0.03162278, 0.03162278, 0.03162278, 0.03162278, 0.03162278,\n",
       "       0.03162278, 0.03162278, 0.03162278, 0.03162278, 0.03162278,\n",
       "       0.03162278, 0.03162278, 0.03162278, 0.03162278, 0.03162278,\n",
       "       0.03162278, 0.03162278, 0.03162278, 0.03162278, 0.03162278,\n",
       "       0.03162278, 0.03162278, 0.03162278, 0.03162278, 0.03162278,\n",
       "       0.03162278, 0.03162278, 0.03162278, 0.03162278, 0.03162278,\n",
       "       0.03162278, 0.03162278, 0.03162278, 0.03162278, 0.03162278,\n",
       "       0.03162278, 0.03162278, 0.03162278, 0.03162278, 0.03162278,\n",
       "       0.03162278, 0.03162278, 0.03162278, 0.03162278, 0.03162278,\n",
       "       0.03162278, 0.03162278, 0.03162278, 0.03162278, 0.03162278,\n",
       "       0.03162278, 0.03162278, 0.03162278, 0.03162278, 0.03162278,\n",
       "       0.03162278, 0.03162278, 0.03162278, 0.03162278, 0.03162278,\n",
       "       0.03162278, 0.03162278, 0.03162278, 0.03162278, 0.03162278,\n",
       "       0.03162278, 0.03162278, 0.03162278, 0.03162278, 0.03162278,\n",
       "       0.03162278, 0.03162278, 0.03162278, 0.03162278, 0.03162278,\n",
       "       0.03162278, 0.03162278, 0.03162278, 0.03162278, 0.03162278,\n",
       "       0.03162278, 0.03162278, 0.03162278, 0.03162278, 0.03162278,\n",
       "       0.03162278, 0.03162278, 0.03162278, 0.03162278, 0.03162278,\n",
       "       0.03162278, 0.03162278, 0.03162278, 0.03162278, 0.03162278,\n",
       "       0.03162278, 0.03162278, 0.03162278, 0.03162278, 0.03162278,\n",
       "       0.03162278, 0.03162278, 0.03162278, 0.03162278, 0.03162278,\n",
       "       0.03162278, 0.03162278, 0.03162278, 0.03162278, 0.03162278,\n",
       "       0.03162278, 0.03162278, 0.03162278, 0.03162278, 0.03162278,\n",
       "       0.03162278, 0.03162278, 0.03162278, 0.03162278, 0.03162278,\n",
       "       0.03162278, 0.03162278, 0.03162278, 0.03162278, 0.03162278,\n",
       "       0.03162278, 0.03162278, 0.03162278, 0.03162278, 0.03162278,\n",
       "       0.03162278, 0.03162278, 0.03162278, 0.03162278, 0.03162278,\n",
       "       0.03162278, 0.03162278, 0.03162278, 0.03162278, 0.03162278,\n",
       "       0.03162278, 0.03162278, 0.03162278, 0.03162278, 0.03162278,\n",
       "       0.03162278, 0.03162278, 0.03162278, 0.03162278, 0.03162278,\n",
       "       0.03162278, 0.03162278, 0.03162278, 0.03162278, 0.03162278,\n",
       "       0.03162278, 0.03162278, 0.03162278, 0.03162278, 0.03162278,\n",
       "       0.03162278, 0.03162278, 0.03162278, 0.03162278, 0.03162278,\n",
       "       0.03162278, 0.03162278, 0.03162278, 0.03162278, 0.03162278,\n",
       "       0.03162278, 0.03162278, 0.03162278, 0.03162278, 0.03162278,\n",
       "       0.03162278, 0.03162278, 0.03162278, 0.03162278, 0.03162278])"
      ]
     },
     "execution_count": 56,
     "metadata": {},
     "output_type": "execute_result"
    }
   ],
   "source": [
    "V[:,0] #the first samllest eigenvalue corresponds to the first eigenvector – should be a constant vector k*e, where e=(1,1,...,1), where k=sqrt(1/n)"
   ]
  },
  {
   "cell_type": "code",
   "execution_count": 58,
   "metadata": {},
   "outputs": [],
   "source": [
    "from math import sqrt"
   ]
  },
  {
   "cell_type": "code",
   "execution_count": 59,
   "metadata": {},
   "outputs": [
    {
     "data": {
      "text/plain": [
       "0.03162277660168379"
      ]
     },
     "execution_count": 59,
     "metadata": {},
     "output_type": "execute_result"
    }
   ],
   "source": [
    "sqrt(1/1000)"
   ]
  },
  {
   "cell_type": "code",
   "execution_count": 60,
   "metadata": {},
   "outputs": [],
   "source": [
    "X=V[:,1] #the second smallest eigenvalue corresponds to the second eigenvector\n",
    "Y=V[:,2]"
   ]
  },
  {
   "cell_type": "code",
   "execution_count": 61,
   "metadata": {},
   "outputs": [],
   "source": [
    "Ids1=np.argsort(X)\n",
    "Ids2=np.argsort(Y)"
   ]
  },
  {
   "cell_type": "code",
   "execution_count": 67,
   "metadata": {},
   "outputs": [
    {
     "data": {
      "text/plain": [
       "[<matplotlib.lines.Line2D at 0x7f8e69f9ee20>]"
      ]
     },
     "execution_count": 67,
     "metadata": {},
     "output_type": "execute_result"
    },
    {
     "data": {
      "image/png": "[encoded data removed]",
      "text/plain": [
       "<Figure size 432x288 with 1 Axes>"
      ]
     },
     "metadata": {
      "needs_background": "light"
     },
     "output_type": "display_data"
    }
   ],
   "source": [
    "plt.plot(X,\"o\") #original X"
   ]
  },
  {
   "cell_type": "code",
   "execution_count": 68,
   "metadata": {},
   "outputs": [
    {
     "data": {
      "text/plain": [
       "[<matplotlib.lines.Line2D at 0x7f8e8a21c310>]"
      ]
     },
     "execution_count": 68,
     "metadata": {},
     "output_type": "execute_result"
    },
    {
     "data": {
      "image/png": "[encoded data removed]",
      "text/plain": [
       "<Figure size 432x288 with 1 Axes>"
      ]
     },
     "metadata": {
      "needs_background": "light"
     },
     "output_type": "display_data"
    }
   ],
   "source": [
    "plt.plot(X[Ids1])"
   ]
  },
  {
   "cell_type": "code",
   "execution_count": 71,
   "metadata": {},
   "outputs": [
    {
     "data": {
      "text/plain": [
       "[<matplotlib.lines.Line2D at 0x7f8e49abf580>]"
      ]
     },
     "execution_count": 71,
     "metadata": {},
     "output_type": "execute_result"
    },
    {
     "data": {
      "image/png": "[encoded data removed]",
      "text/plain": [
       "<Figure size 432x288 with 1 Axes>"
      ]
     },
     "metadata": {
      "needs_background": "light"
     },
     "output_type": "display_data"
    }
   ],
   "source": [
    "plt.plot(X[Ids1],Y[Ids2],\"*\") #sorted X"
   ]
  },
  {
   "cell_type": "code",
   "execution_count": 75,
   "metadata": {},
   "outputs": [
    {
     "data": {
      "text/plain": [
       "2.2382096176443156e-13"
      ]
     },
     "execution_count": 75,
     "metadata": {},
     "output_type": "execute_result"
    }
   ],
   "source": [
    "sum(np.dot(L,X)) #the result is non-zero"
   ]
  },
  {
   "cell_type": "code",
   "execution_count": 73,
   "metadata": {},
   "outputs": [
    {
     "data": {
      "text/plain": [
       "-4.200195746761892e-12"
      ]
     },
     "execution_count": 73,
     "metadata": {},
     "output_type": "execute_result"
    }
   ],
   "source": [
    "sum(np.dot(L,V[:,0])) #due to numerical instability the result is non-zero for the first vector too"
   ]
  },
  {
   "cell_type": "code",
   "execution_count": 76,
   "metadata": {},
   "outputs": [
    {
     "data": {
      "text/plain": [
       "[<matplotlib.lines.Line2D at 0x7f8e6a117460>]"
      ]
     },
     "execution_count": 76,
     "metadata": {},
     "output_type": "execute_result"
    },
    {
     "data": {
      "image/png": "[encoded data removed]",
      "text/plain": [
       "<Figure size 432x288 with 1 Axes>"
      ]
     },
     "metadata": {
      "needs_background": "light"
     },
     "output_type": "display_data"
    }
   ],
   "source": [
    "plt.plot(V[:,0]) # but it does not suite our purpose"
   ]
  },
  {
   "cell_type": "code",
   "execution_count": 77,
   "metadata": {},
   "outputs": [],
   "source": [
    "B=A[Ids1,:]#let us sort our matrix according to the new order of the second vector components; first, by rows"
   ]
  },
  {
   "cell_type": "code",
   "execution_count": 78,
   "metadata": {},
   "outputs": [
    {
     "data": {
      "text/plain": [
       "<matplotlib.collections.QuadMesh at 0x7f8e6a136ac0>"
      ]
     },
     "execution_count": 78,
     "metadata": {},
     "output_type": "execute_result"
    },
    {
     "data": {
      "image/png": "[encoded data removed]",
      "text/plain": [
       "<Figure size 432x288 with 1 Axes>"
      ]
     },
     "metadata": {
      "needs_background": "light"
     },
     "output_type": "display_data"
    }
   ],
   "source": [
    "plt.pcolormesh(B)"
   ]
  },
  {
   "cell_type": "code",
   "execution_count": 79,
   "metadata": {},
   "outputs": [
    {
     "data": {
      "text/plain": [
       "<matplotlib.collections.QuadMesh at 0x7f8e588173d0>"
      ]
     },
     "execution_count": 79,
     "metadata": {},
     "output_type": "execute_result"
    },
    {
     "data": {
      "image/png": "[encoded data removed]",
      "text/plain": [
       "<Figure size 432x288 with 1 Axes>"
      ]
     },
     "metadata": {
      "needs_background": "light"
     },
     "output_type": "display_data"
    }
   ],
   "source": [
    "plt.pcolormesh(B[:,Ids1]) #second, by columns; we identified our communities"
   ]
  },
  {
   "cell_type": "code",
   "execution_count": 81,
   "metadata": {},
   "outputs": [],
   "source": [
    "e=np.ones(1000) #just for curiosity, let us check the constant vector"
   ]
  },
  {
   "cell_type": "code",
   "execution_count": 82,
   "metadata": {},
   "outputs": [
    {
     "data": {
      "text/plain": [
       "array([1., 1., 1., 1., 1., 1., 1., 1., 1., 1., 1., 1., 1., 1., 1., 1., 1.,\n",
       "       1., 1., 1., 1., 1., 1., 1., 1., 1., 1., 1., 1., 1., 1., 1., 1., 1.,\n",
       "       1., 1., 1., 1., 1., 1., 1., 1., 1., 1., 1., 1., 1., 1., 1., 1., 1.,\n",
       "       1., 1., 1., 1., 1., 1., 1., 1., 1., 1., 1., 1., 1., 1., 1., 1., 1.,\n",
       "       1., 1., 1., 1., 1., 1., 1., 1., 1., 1., 1., 1., 1., 1., 1., 1., 1.,\n",
       "       1., 1., 1., 1., 1., 1., 1., 1., 1., 1., 1., 1., 1., 1., 1., 1., 1.,\n",
       "       1., 1., 1., 1., 1., 1., 1., 1., 1., 1., 1., 1., 1., 1., 1., 1., 1.,\n",
       "       1., 1., 1., 1., 1., 1., 1., 1., 1., 1., 1., 1., 1., 1., 1., 1., 1.,\n",
       "       1., 1., 1., 1., 1., 1., 1., 1., 1., 1., 1., 1., 1., 1., 1., 1., 1.,\n",
       "       1., 1., 1., 1., 1., 1., 1., 1., 1., 1., 1., 1., 1., 1., 1., 1., 1.,\n",
       "       1., 1., 1., 1., 1., 1., 1., 1., 1., 1., 1., 1., 1., 1., 1., 1., 1.,\n",
       "       1., 1., 1., 1., 1., 1., 1., 1., 1., 1., 1., 1., 1., 1., 1., 1., 1.,\n",
       "       1., 1., 1., 1., 1., 1., 1., 1., 1., 1., 1., 1., 1., 1., 1., 1., 1.,\n",
       "       1., 1., 1., 1., 1., 1., 1., 1., 1., 1., 1., 1., 1., 1., 1., 1., 1.,\n",
       "       1., 1., 1., 1., 1., 1., 1., 1., 1., 1., 1., 1., 1., 1., 1., 1., 1.,\n",
       "       1., 1., 1., 1., 1., 1., 1., 1., 1., 1., 1., 1., 1., 1., 1., 1., 1.,\n",
       "       1., 1., 1., 1., 1., 1., 1., 1., 1., 1., 1., 1., 1., 1., 1., 1., 1.,\n",
       "       1., 1., 1., 1., 1., 1., 1., 1., 1., 1., 1., 1., 1., 1., 1., 1., 1.,\n",
       "       1., 1., 1., 1., 1., 1., 1., 1., 1., 1., 1., 1., 1., 1., 1., 1., 1.,\n",
       "       1., 1., 1., 1., 1., 1., 1., 1., 1., 1., 1., 1., 1., 1., 1., 1., 1.,\n",
       "       1., 1., 1., 1., 1., 1., 1., 1., 1., 1., 1., 1., 1., 1., 1., 1., 1.,\n",
       "       1., 1., 1., 1., 1., 1., 1., 1., 1., 1., 1., 1., 1., 1., 1., 1., 1.,\n",
       "       1., 1., 1., 1., 1., 1., 1., 1., 1., 1., 1., 1., 1., 1., 1., 1., 1.,\n",
       "       1., 1., 1., 1., 1., 1., 1., 1., 1., 1., 1., 1., 1., 1., 1., 1., 1.,\n",
       "       1., 1., 1., 1., 1., 1., 1., 1., 1., 1., 1., 1., 1., 1., 1., 1., 1.,\n",
       "       1., 1., 1., 1., 1., 1., 1., 1., 1., 1., 1., 1., 1., 1., 1., 1., 1.,\n",
       "       1., 1., 1., 1., 1., 1., 1., 1., 1., 1., 1., 1., 1., 1., 1., 1., 1.,\n",
       "       1., 1., 1., 1., 1., 1., 1., 1., 1., 1., 1., 1., 1., 1., 1., 1., 1.,\n",
       "       1., 1., 1., 1., 1., 1., 1., 1., 1., 1., 1., 1., 1., 1., 1., 1., 1.,\n",
       "       1., 1., 1., 1., 1., 1., 1., 1., 1., 1., 1., 1., 1., 1., 1., 1., 1.,\n",
       "       1., 1., 1., 1., 1., 1., 1., 1., 1., 1., 1., 1., 1., 1., 1., 1., 1.,\n",
       "       1., 1., 1., 1., 1., 1., 1., 1., 1., 1., 1., 1., 1., 1., 1., 1., 1.,\n",
       "       1., 1., 1., 1., 1., 1., 1., 1., 1., 1., 1., 1., 1., 1., 1., 1., 1.,\n",
       "       1., 1., 1., 1., 1., 1., 1., 1., 1., 1., 1., 1., 1., 1., 1., 1., 1.,\n",
       "       1., 1., 1., 1., 1., 1., 1., 1., 1., 1., 1., 1., 1., 1., 1., 1., 1.,\n",
       "       1., 1., 1., 1., 1., 1., 1., 1., 1., 1., 1., 1., 1., 1., 1., 1., 1.,\n",
       "       1., 1., 1., 1., 1., 1., 1., 1., 1., 1., 1., 1., 1., 1., 1., 1., 1.,\n",
       "       1., 1., 1., 1., 1., 1., 1., 1., 1., 1., 1., 1., 1., 1., 1., 1., 1.,\n",
       "       1., 1., 1., 1., 1., 1., 1., 1., 1., 1., 1., 1., 1., 1., 1., 1., 1.,\n",
       "       1., 1., 1., 1., 1., 1., 1., 1., 1., 1., 1., 1., 1., 1., 1., 1., 1.,\n",
       "       1., 1., 1., 1., 1., 1., 1., 1., 1., 1., 1., 1., 1., 1., 1., 1., 1.,\n",
       "       1., 1., 1., 1., 1., 1., 1., 1., 1., 1., 1., 1., 1., 1., 1., 1., 1.,\n",
       "       1., 1., 1., 1., 1., 1., 1., 1., 1., 1., 1., 1., 1., 1., 1., 1., 1.,\n",
       "       1., 1., 1., 1., 1., 1., 1., 1., 1., 1., 1., 1., 1., 1., 1., 1., 1.,\n",
       "       1., 1., 1., 1., 1., 1., 1., 1., 1., 1., 1., 1., 1., 1., 1., 1., 1.,\n",
       "       1., 1., 1., 1., 1., 1., 1., 1., 1., 1., 1., 1., 1., 1., 1., 1., 1.,\n",
       "       1., 1., 1., 1., 1., 1., 1., 1., 1., 1., 1., 1., 1., 1., 1., 1., 1.,\n",
       "       1., 1., 1., 1., 1., 1., 1., 1., 1., 1., 1., 1., 1., 1., 1., 1., 1.,\n",
       "       1., 1., 1., 1., 1., 1., 1., 1., 1., 1., 1., 1., 1., 1., 1., 1., 1.,\n",
       "       1., 1., 1., 1., 1., 1., 1., 1., 1., 1., 1., 1., 1., 1., 1., 1., 1.,\n",
       "       1., 1., 1., 1., 1., 1., 1., 1., 1., 1., 1., 1., 1., 1., 1., 1., 1.,\n",
       "       1., 1., 1., 1., 1., 1., 1., 1., 1., 1., 1., 1., 1., 1., 1., 1., 1.,\n",
       "       1., 1., 1., 1., 1., 1., 1., 1., 1., 1., 1., 1., 1., 1., 1., 1., 1.,\n",
       "       1., 1., 1., 1., 1., 1., 1., 1., 1., 1., 1., 1., 1., 1., 1., 1., 1.,\n",
       "       1., 1., 1., 1., 1., 1., 1., 1., 1., 1., 1., 1., 1., 1., 1., 1., 1.,\n",
       "       1., 1., 1., 1., 1., 1., 1., 1., 1., 1., 1., 1., 1., 1., 1., 1., 1.,\n",
       "       1., 1., 1., 1., 1., 1., 1., 1., 1., 1., 1., 1., 1., 1., 1., 1., 1.,\n",
       "       1., 1., 1., 1., 1., 1., 1., 1., 1., 1., 1., 1., 1., 1., 1., 1., 1.,\n",
       "       1., 1., 1., 1., 1., 1., 1., 1., 1., 1., 1., 1., 1., 1.])"
      ]
     },
     "execution_count": 82,
     "metadata": {},
     "output_type": "execute_result"
    }
   ],
   "source": [
    "e"
   ]
  },
  {
   "cell_type": "code",
   "execution_count": 83,
   "metadata": {},
   "outputs": [
    {
     "data": {
      "text/plain": [
       "array([0., 0., 0., 0., 0., 0., 0., 0., 0., 0., 0., 0., 0., 0., 0., 0., 0.,\n",
       "       0., 0., 0., 0., 0., 0., 0., 0., 0., 0., 0., 0., 0., 0., 0., 0., 0.,\n",
       "       0., 0., 0., 0., 0., 0., 0., 0., 0., 0., 0., 0., 0., 0., 0., 0., 0.,\n",
       "       0., 0., 0., 0., 0., 0., 0., 0., 0., 0., 0., 0., 0., 0., 0., 0., 0.,\n",
       "       0., 0., 0., 0., 0., 0., 0., 0., 0., 0., 0., 0., 0., 0., 0., 0., 0.,\n",
       "       0., 0., 0., 0., 0., 0., 0., 0., 0., 0., 0., 0., 0., 0., 0., 0., 0.,\n",
       "       0., 0., 0., 0., 0., 0., 0., 0., 0., 0., 0., 0., 0., 0., 0., 0., 0.,\n",
       "       0., 0., 0., 0., 0., 0., 0., 0., 0., 0., 0., 0., 0., 0., 0., 0., 0.,\n",
       "       0., 0., 0., 0., 0., 0., 0., 0., 0., 0., 0., 0., 0., 0., 0., 0., 0.,\n",
       "       0., 0., 0., 0., 0., 0., 0., 0., 0., 0., 0., 0., 0., 0., 0., 0., 0.,\n",
       "       0., 0., 0., 0., 0., 0., 0., 0., 0., 0., 0., 0., 0., 0., 0., 0., 0.,\n",
       "       0., 0., 0., 0., 0., 0., 0., 0., 0., 0., 0., 0., 0., 0., 0., 0., 0.,\n",
       "       0., 0., 0., 0., 0., 0., 0., 0., 0., 0., 0., 0., 0., 0., 0., 0., 0.,\n",
       "       0., 0., 0., 0., 0., 0., 0., 0., 0., 0., 0., 0., 0., 0., 0., 0., 0.,\n",
       "       0., 0., 0., 0., 0., 0., 0., 0., 0., 0., 0., 0., 0., 0., 0., 0., 0.,\n",
       "       0., 0., 0., 0., 0., 0., 0., 0., 0., 0., 0., 0., 0., 0., 0., 0., 0.,\n",
       "       0., 0., 0., 0., 0., 0., 0., 0., 0., 0., 0., 0., 0., 0., 0., 0., 0.,\n",
       "       0., 0., 0., 0., 0., 0., 0., 0., 0., 0., 0., 0., 0., 0., 0., 0., 0.,\n",
       "       0., 0., 0., 0., 0., 0., 0., 0., 0., 0., 0., 0., 0., 0., 0., 0., 0.,\n",
       "       0., 0., 0., 0., 0., 0., 0., 0., 0., 0., 0., 0., 0., 0., 0., 0., 0.,\n",
       "       0., 0., 0., 0., 0., 0., 0., 0., 0., 0., 0., 0., 0., 0., 0., 0., 0.,\n",
       "       0., 0., 0., 0., 0., 0., 0., 0., 0., 0., 0., 0., 0., 0., 0., 0., 0.,\n",
       "       0., 0., 0., 0., 0., 0., 0., 0., 0., 0., 0., 0., 0., 0., 0., 0., 0.,\n",
       "       0., 0., 0., 0., 0., 0., 0., 0., 0., 0., 0., 0., 0., 0., 0., 0., 0.,\n",
       "       0., 0., 0., 0., 0., 0., 0., 0., 0., 0., 0., 0., 0., 0., 0., 0., 0.,\n",
       "       0., 0., 0., 0., 0., 0., 0., 0., 0., 0., 0., 0., 0., 0., 0., 0., 0.,\n",
       "       0., 0., 0., 0., 0., 0., 0., 0., 0., 0., 0., 0., 0., 0., 0., 0., 0.,\n",
       "       0., 0., 0., 0., 0., 0., 0., 0., 0., 0., 0., 0., 0., 0., 0., 0., 0.,\n",
       "       0., 0., 0., 0., 0., 0., 0., 0., 0., 0., 0., 0., 0., 0., 0., 0., 0.,\n",
       "       0., 0., 0., 0., 0., 0., 0., 0., 0., 0., 0., 0., 0., 0., 0., 0., 0.,\n",
       "       0., 0., 0., 0., 0., 0., 0., 0., 0., 0., 0., 0., 0., 0., 0., 0., 0.,\n",
       "       0., 0., 0., 0., 0., 0., 0., 0., 0., 0., 0., 0., 0., 0., 0., 0., 0.,\n",
       "       0., 0., 0., 0., 0., 0., 0., 0., 0., 0., 0., 0., 0., 0., 0., 0., 0.,\n",
       "       0., 0., 0., 0., 0., 0., 0., 0., 0., 0., 0., 0., 0., 0., 0., 0., 0.,\n",
       "       0., 0., 0., 0., 0., 0., 0., 0., 0., 0., 0., 0., 0., 0., 0., 0., 0.,\n",
       "       0., 0., 0., 0., 0., 0., 0., 0., 0., 0., 0., 0., 0., 0., 0., 0., 0.,\n",
       "       0., 0., 0., 0., 0., 0., 0., 0., 0., 0., 0., 0., 0., 0., 0., 0., 0.,\n",
       "       0., 0., 0., 0., 0., 0., 0., 0., 0., 0., 0., 0., 0., 0., 0., 0., 0.,\n",
       "       0., 0., 0., 0., 0., 0., 0., 0., 0., 0., 0., 0., 0., 0., 0., 0., 0.,\n",
       "       0., 0., 0., 0., 0., 0., 0., 0., 0., 0., 0., 0., 0., 0., 0., 0., 0.,\n",
       "       0., 0., 0., 0., 0., 0., 0., 0., 0., 0., 0., 0., 0., 0., 0., 0., 0.,\n",
       "       0., 0., 0., 0., 0., 0., 0., 0., 0., 0., 0., 0., 0., 0., 0., 0., 0.,\n",
       "       0., 0., 0., 0., 0., 0., 0., 0., 0., 0., 0., 0., 0., 0., 0., 0., 0.,\n",
       "       0., 0., 0., 0., 0., 0., 0., 0., 0., 0., 0., 0., 0., 0., 0., 0., 0.,\n",
       "       0., 0., 0., 0., 0., 0., 0., 0., 0., 0., 0., 0., 0., 0., 0., 0., 0.,\n",
       "       0., 0., 0., 0., 0., 0., 0., 0., 0., 0., 0., 0., 0., 0., 0., 0., 0.,\n",
       "       0., 0., 0., 0., 0., 0., 0., 0., 0., 0., 0., 0., 0., 0., 0., 0., 0.,\n",
       "       0., 0., 0., 0., 0., 0., 0., 0., 0., 0., 0., 0., 0., 0., 0., 0., 0.,\n",
       "       0., 0., 0., 0., 0., 0., 0., 0., 0., 0., 0., 0., 0., 0., 0., 0., 0.,\n",
       "       0., 0., 0., 0., 0., 0., 0., 0., 0., 0., 0., 0., 0., 0., 0., 0., 0.,\n",
       "       0., 0., 0., 0., 0., 0., 0., 0., 0., 0., 0., 0., 0., 0., 0., 0., 0.,\n",
       "       0., 0., 0., 0., 0., 0., 0., 0., 0., 0., 0., 0., 0., 0., 0., 0., 0.,\n",
       "       0., 0., 0., 0., 0., 0., 0., 0., 0., 0., 0., 0., 0., 0., 0., 0., 0.,\n",
       "       0., 0., 0., 0., 0., 0., 0., 0., 0., 0., 0., 0., 0., 0., 0., 0., 0.,\n",
       "       0., 0., 0., 0., 0., 0., 0., 0., 0., 0., 0., 0., 0., 0., 0., 0., 0.,\n",
       "       0., 0., 0., 0., 0., 0., 0., 0., 0., 0., 0., 0., 0., 0., 0., 0., 0.,\n",
       "       0., 0., 0., 0., 0., 0., 0., 0., 0., 0., 0., 0., 0., 0., 0., 0., 0.,\n",
       "       0., 0., 0., 0., 0., 0., 0., 0., 0., 0., 0., 0., 0., 0., 0., 0., 0.,\n",
       "       0., 0., 0., 0., 0., 0., 0., 0., 0., 0., 0., 0., 0., 0.])"
      ]
     },
     "execution_count": 83,
     "metadata": {},
     "output_type": "execute_result"
    }
   ],
   "source": [
    "np.dot(L,e) # it corresponds to zero eigenvalue"
   ]
  },
  {
   "cell_type": "code",
   "execution_count": 84,
   "metadata": {},
   "outputs": [
    {
     "data": {
      "text/plain": [
       "-5.555028022724528e-15"
      ]
     },
     "execution_count": 84,
     "metadata": {},
     "output_type": "execute_result"
    }
   ],
   "source": [
    "W[0] #even though due to numeric instability it is not zero in our method"
   ]
  },
  {
   "cell_type": "markdown",
   "metadata": {
    "colab_type": "text",
    "id": "pYu6A5YR_jCW"
   },
   "source": [
    "### 2. Meaningful Partitions of Real Datasets (100%)\n",
    "\"The previous example was rather compelling. However, it was also fake.\"\n",
    "\n",
    "We can play with real anonymised data from Yahoo https://www.dropbox.com/s/ii1e09dx6o2ktit/yahoo.zip?dl=0 for web advertisment."
   ]
  },
  {
   "cell_type": "code",
   "execution_count": 88,
   "metadata": {
    "colab": {},
    "colab_type": "code",
    "id": "6U4SjCVu_jCY"
   },
   "outputs": [],
   "source": [
    "# reading data, 2000 companies, 3000 advertising terms, \n",
    "# 92345 connections in the graph showing that a firm buys a term\n",
    "a = np.genfromtxt('yahoo/us.3k.2k.smat')\n",
    "a = a.astype(int)\n",
    "n, m, n_connections = a[0]"
   ]
  },
  {
   "cell_type": "code",
   "execution_count": 89,
   "metadata": {},
   "outputs": [
    {
     "data": {
      "text/plain": [
       "array([[  0,  23,   1],\n",
       "       [  0,  96,   1],\n",
       "       [  0, 188,   1],\n",
       "       [  0, 328,   1],\n",
       "       [  0, 556,   1],\n",
       "       [  0, 632,   1],\n",
       "       [  0, 672,   1],\n",
       "       [  0, 700,   1],\n",
       "       [  0, 714,   1]])"
      ]
     },
     "execution_count": 89,
     "metadata": {},
     "output_type": "execute_result"
    }
   ],
   "source": [
    "a[1:10]"
   ]
  },
  {
   "cell_type": "code",
   "execution_count": 90,
   "metadata": {
    "colab": {},
    "colab_type": "code",
    "id": "5GULoysw_jCZ"
   },
   "outputs": [],
   "source": [
    "#let us put data in the adjacency matrix n x m\n",
    "A_small = np.zeros((n, m))\n",
    "A_small[a[1:, 0], a[1:, 1]] = 1"
   ]
  },
  {
   "cell_type": "code",
   "execution_count": 91,
   "metadata": {
    "colab": {},
    "colab_type": "code",
    "id": "0IuVdiI3_jCd"
   },
   "outputs": [],
   "source": [
    "A = np.vstack(\n",
    "    (np.hstack(\n",
    "        (np.zeros((n, n)), A_small)\n",
    "    ),\n",
    "     np.hstack((A_small.T, np.zeros((m, m))))\n",
    "    )\n",
    ")"
   ]
  },
  {
   "cell_type": "code",
   "execution_count": 92,
   "metadata": {
    "colab": {},
    "colab_type": "code",
    "id": "Mg0pQyDp_jCg"
   },
   "outputs": [],
   "source": [
    "# let us calcualte the number of non-zero elements (connections)\n",
    "assert sum(sum(A_small)) == 92345"
   ]
  },
  {
   "cell_type": "code",
   "execution_count": 93,
   "metadata": {
    "colab": {},
    "colab_type": "code",
    "id": "-9MhUwS5_jCm"
   },
   "outputs": [],
   "source": [
    "# let us read terms along with their ids\n",
    "with open(\"yahoo/us.3k.2k.trms\", 'r') as iofile:\n",
    "    labels = iofile.readlines()"
   ]
  },
  {
   "cell_type": "code",
   "execution_count": 94,
   "metadata": {},
   "outputs": [
    {
     "data": {
      "text/plain": [
       "['12a1970 lexmark\\n',\n",
       " '2 stacker\\n',\n",
       " '21 black jack\\n',\n",
       " '2nd mortgage\\n',\n",
       " 'acapulco hotel\\n',\n",
       " 'accept account card credit merchant\\n',\n",
       " 'accept card credit\\n',\n",
       " 'accept card credit online\\n',\n",
       " 'accessory computer\\n',\n",
       " 'accessory desk\\n',\n",
       " 'accommodation\\n',\n",
       " 'accommodation hotel\\n',\n",
       " 'accommodation las vegas\\n',\n",
       " 'accommodation new york\\n',\n",
       " 'accommodation orlando\\n',\n",
       " 'accommodation paris\\n',\n",
       " 'account card credit merchant\\n',\n",
       " 'account cost low merchant\\n',\n",
       " 'account ecommerce merchant\\n',\n",
       " 'account internet merchant\\n',\n",
       " 'account merchant\\n',\n",
       " 'account merchant online\\n',\n",
       " 'account merchant provider\\n',\n",
       " 'account merchant service\\n',\n",
       " 'acid alpha lipoic\\n',\n",
       " 'acid amino\\n',\n",
       " 'acid folic\\n',\n",
       " 'acne medication\\n',\n",
       " 'acura cl\\n',\n",
       " 'acyclovir\\n',\n",
       " 'ad banner\\n',\n",
       " 'ad personal\\n',\n",
       " 'add url\\n',\n",
       " 'address internet\\n',\n",
       " 'address web\\n',\n",
       " 'adds personal\\n',\n",
       " 'adipex\\n',\n",
       " 'adipex buy\\n',\n",
       " 'adipex buy online\\n',\n",
       " 'adipex cheap\\n',\n",
       " 'adipex diet\\n',\n",
       " 'adipex diet pill\\n',\n",
       " 'adipex line\\n',\n",
       " 'adipex online\\n',\n",
       " 'adipex online order\\n',\n",
       " 'adipex online prescription\\n',\n",
       " 'adipex order\\n',\n",
       " 'adipex p\\n',\n",
       " 'adipex phentermine\\n',\n",
       " 'adipex prescription\\n',\n",
       " 'adjustable mortgage rate\\n',\n",
       " 'ads free personal\\n',\n",
       " 'ads online personal\\n',\n",
       " 'ads personal picture\\n',\n",
       " 'ads personal single\\n',\n",
       " 'ads single\\n',\n",
       " 'adult\\n',\n",
       " 'adult amateur video\\n',\n",
       " 'adult dating\\n',\n",
       " 'adult dating services\\n',\n",
       " 'adult entertainment\\n',\n",
       " 'adult film\\n',\n",
       " 'adult movie\\n',\n",
       " 'adult movie sex\\n',\n",
       " 'adult movie xxx\\n',\n",
       " 'adult personal\\n',\n",
       " 'adult picture\\n',\n",
       " 'adult porn\\n',\n",
       " 'adult sex\\n',\n",
       " 'adult sex video\\n',\n",
       " 'adult site\\n',\n",
       " 'adult site web\\n',\n",
       " 'adult video\\n',\n",
       " 'adult video xxx\\n',\n",
       " 'adult xxx\\n',\n",
       " 'adventure travel\\n',\n",
       " 'adventure vacation\\n',\n",
       " 'advertise\\n',\n",
       " 'advertise site web\\n',\n",
       " 'advertising\\n',\n",
       " 'advertising banner\\n',\n",
       " 'advertising business\\n',\n",
       " 'advertising campaign\\n',\n",
       " 'advertising click pay per\\n',\n",
       " 'advertising email\\n',\n",
       " 'advertising engine search\\n',\n",
       " 'advertising free\\n',\n",
       " 'advertising internet\\n',\n",
       " 'advertising internet marketing\\n',\n",
       " 'advertising marketing\\n',\n",
       " 'advertising online\\n',\n",
       " 'advertising promotion\\n',\n",
       " 'advertising promotional\\n',\n",
       " 'advertising site web\\n',\n",
       " 'advertising specialty\\n',\n",
       " 'advertising strategy\\n',\n",
       " 'advertising web\\n',\n",
       " 'advice business small\\n',\n",
       " 'advice internet marketing\\n',\n",
       " 'affiliate\\n',\n",
       " 'affiliate associate program\\n',\n",
       " 'affiliate best program\\n',\n",
       " 'affiliate free program\\n',\n",
       " 'affiliate internet program\\n',\n",
       " 'affiliate marketing\\n',\n",
       " 'affiliate marketing program\\n',\n",
       " 'affiliate master program web\\n',\n",
       " 'affiliate online program\\n',\n",
       " 'affiliate opportunity\\n',\n",
       " 'affiliate partner program\\n',\n",
       " 'affiliate program\\n',\n",
       " 'affiliate program site web\\n',\n",
       " 'affiliate program top\\n',\n",
       " 'affiliate program web\\n',\n",
       " 'affordable cheap hosting web\\n',\n",
       " 'affordable design site web\\n',\n",
       " 'affordable design web\\n',\n",
       " 'affordable host web\\n',\n",
       " 'affordable hosting\\n',\n",
       " 'affordable hosting site web\\n',\n",
       " 'affordable hosting web\\n',\n",
       " 'affordable promotion site web\\n',\n",
       " 'agency dating\\n',\n",
       " 'agency travel\\n',\n",
       " 'agent travel\\n',\n",
       " 'aids diet\\n',\n",
       " 'air cheap travel\\n',\n",
       " 'air discount travel\\n',\n",
       " 'air ticket\\n',\n",
       " 'air travel\\n',\n",
       " 'airfare\\n',\n",
       " 'airfare bargain\\n',\n",
       " 'airfare cheap\\n',\n",
       " 'airfare discount\\n',\n",
       " 'airfare international\\n',\n",
       " 'airfare low\\n',\n",
       " 'airfare lowest\\n',\n",
       " 'airline cheap ticket\\n',\n",
       " 'airline discount ticket\\n',\n",
       " 'airline reservation\\n',\n",
       " 'airline ticket\\n',\n",
       " 'airline travel\\n',\n",
       " 'alaska\\n',\n",
       " 'alaska cruise\\n',\n",
       " 'alaska travel\\n',\n",
       " 'albany hotel\\n',\n",
       " 'albuquerque hotel\\n',\n",
       " 'aloe vera\\n',\n",
       " 'alpine\\n',\n",
       " 'alternative medicine\\n',\n",
       " 'alternative viagra\\n',\n",
       " 'altima nissan\\n',\n",
       " 'amateur blow job\\n',\n",
       " 'amateur erotica\\n',\n",
       " 'amateur hardcore\\n',\n",
       " 'amateur naked\\n',\n",
       " 'amateur nude\\n',\n",
       " 'amateur nude photo\\n',\n",
       " 'amateur nude woman\\n',\n",
       " 'amateur pic sex\\n',\n",
       " 'amateur picture sex\\n',\n",
       " 'amateur porn\\n',\n",
       " 'amateur pussy\\n',\n",
       " 'amateur sex\\n',\n",
       " 'amateur sex video\\n',\n",
       " 'amateur xxx\\n',\n",
       " 'america cruise holland\\n',\n",
       " 'america cruise holland line\\n',\n",
       " 'american single\\n',\n",
       " 'amsterdam\\n',\n",
       " 'amsterdam hotel\\n',\n",
       " 'anaheim\\n',\n",
       " 'anaheim california hotel\\n',\n",
       " 'anaheim discount hotel\\n',\n",
       " 'anaheim hotel\\n',\n",
       " 'anal\\n',\n",
       " 'anal fuck\\n',\n",
       " 'anal fucking\\n',\n",
       " 'anal hardcore\\n',\n",
       " 'anal hardcore sex\\n',\n",
       " 'anal movie\\n',\n",
       " 'anal penetration\\n',\n",
       " 'anal photo sex\\n',\n",
       " 'anal pic\\n',\n",
       " 'anal pic sex\\n',\n",
       " 'anal picture\\n',\n",
       " 'anal picture sex\\n',\n",
       " 'anal porn\\n',\n",
       " 'anal sex\\n',\n",
       " 'anal sex video\\n',\n",
       " 'anal video\\n',\n",
       " 'anchorage hotel\\n',\n",
       " 'andro\\n',\n",
       " 'angel\\n',\n",
       " 'angeles ca hotel los\\n',\n",
       " 'angeles discount hotel los\\n',\n",
       " 'angeles hotel los\\n',\n",
       " 'angeles los\\n',\n",
       " 'annapolis hotel\\n',\n",
       " 'anniversary\\n',\n",
       " 'anniversary flower\\n',\n",
       " 'anniversary gift\\n',\n",
       " 'anniversary gift idea\\n',\n",
       " 'anniversary gift idea wedding\\n',\n",
       " 'anniversary gift unique\\n',\n",
       " 'anniversary gift wedding\\n',\n",
       " 'anniversary present\\n',\n",
       " 'antioxidant\\n',\n",
       " 'antonio hotel san\\n',\n",
       " 'antonio hotel san texas\\n',\n",
       " 'antonio hotel san tx\\n',\n",
       " 'antonio san\\n',\n",
       " 'apparel\\n',\n",
       " 'appetite suppressant\\n',\n",
       " 'apple\\n',\n",
       " 'application card credit\\n',\n",
       " 'application card credit online\\n',\n",
       " 'application card credit visa\\n',\n",
       " 'application development web\\n',\n",
       " 'apply card credit\\n',\n",
       " 'apply card credit online\\n',\n",
       " 'approval card credit instant\\n',\n",
       " 'approval card credit online\\n',\n",
       " 'apr card credit low\\n',\n",
       " 'arizona\\n',\n",
       " 'arizona hotel phoenix\\n',\n",
       " 'arizona hotel tucson\\n',\n",
       " 'arizona mortgage\\n',\n",
       " 'arlington hotel\\n',\n",
       " 'aromatherapy\\n',\n",
       " 'arrangement flower\\n',\n",
       " 'art\\n',\n",
       " 'aruba\\n',\n",
       " 'asheville hotel\\n',\n",
       " 'asian ass\\n',\n",
       " 'asian fuck\\n',\n",
       " 'asian hardcore\\n',\n",
       " 'asian naked\\n',\n",
       " 'asian naked woman\\n',\n",
       " 'asian nude\\n',\n",
       " 'asian nude woman\\n',\n",
       " 'asian picture sex\\n',\n",
       " 'asian porn\\n',\n",
       " 'asian porn star\\n',\n",
       " 'asian pussy\\n',\n",
       " 'asian sex\\n',\n",
       " 'asian slut\\n',\n",
       " 'asian tit\\n',\n",
       " 'asian xxx\\n',\n",
       " 'asp\\n',\n",
       " 'asp hosting\\n',\n",
       " 'asp hosting web\\n',\n",
       " 'aspen\\n',\n",
       " 'aspen hotel\\n',\n",
       " 'ass\\n',\n",
       " 'ass big black\\n',\n",
       " 'ass black\\n',\n",
       " 'ass fucking\\n',\n",
       " 'ass teen\\n',\n",
       " 'associate program\\n',\n",
       " 'athens\\n',\n",
       " 'athens hotel\\n',\n",
       " 'atkins\\n',\n",
       " 'atkins diet\\n',\n",
       " 'atlanta\\n',\n",
       " 'atlanta discount hotel\\n',\n",
       " 'atlanta ga hotel\\n',\n",
       " 'atlanta georgia hotel\\n',\n",
       " 'atlanta hotel\\n',\n",
       " 'atlantic city\\n',\n",
       " 'atlantic city hotel\\n',\n",
       " 'atlantic city hotel jersey new\\n',\n",
       " 'atlantic city hotel nj\\n',\n",
       " 'atlantic city hotel reservation\\n',\n",
       " 'aurora\\n',\n",
       " 'austin\\n',\n",
       " 'austin hotel\\n',\n",
       " 'austin hotel texas\\n',\n",
       " 'australia\\n',\n",
       " 'australia travel\\n',\n",
       " 'auto\\n',\n",
       " 'auto buying\\n',\n",
       " 'auto financing\\n',\n",
       " 'auto insurance quote\\n',\n",
       " 'auto loan\\n',\n",
       " 'auto price\\n',\n",
       " 'auto pricing\\n',\n",
       " 'automobile\\n',\n",
       " 'avalon\\n',\n",
       " 'avoid bankruptcy\\n',\n",
       " 'b complex vitamin\\n',\n",
       " 'b vitamin\\n',\n",
       " 'b12 vitamin\\n',\n",
       " 'baby basket gift\\n',\n",
       " 'baby basket gift new\\n',\n",
       " 'baby gift\\n',\n",
       " 'baby gift idea\\n',\n",
       " 'baby gift new\\n',\n",
       " 'baby gift shower\\n',\n",
       " 'baby gift unique\\n',\n",
       " 'baccarat\\n',\n",
       " 'baccarat casino game\\n',\n",
       " 'baccarat online\\n',\n",
       " 'baccarat play\\n',\n",
       " 'backpack\\n',\n",
       " 'bad card credit credit\\n',\n",
       " 'bad card credit credit people\\n',\n",
       " 'bad consolidation credit debt\\n',\n",
       " 'bad credit\\n',\n",
       " 'bad credit equity home loan\\n',\n",
       " 'bad credit home loan\\n',\n",
       " 'bad credit home mortgage\\n',\n",
       " 'bad credit lender mortgage\\n',\n",
       " 'bad credit loan\\n',\n",
       " 'bad credit loan mortgage\\n',\n",
       " 'bad credit loan people\\n',\n",
       " 'bad credit mortgage\\n',\n",
       " 'bad debt\\n',\n",
       " 'bahamas\\n',\n",
       " 'bahamas cruise\\n',\n",
       " 'bahamas hotel\\n',\n",
       " 'bahamas vacation\\n',\n",
       " 'baltimore hotel\\n',\n",
       " 'baltimore hotel maryland\\n',\n",
       " 'banking mortgage\\n',\n",
       " 'bar protein\\n',\n",
       " 'bar protein pure\\n',\n",
       " 'barbara hotel santa\\n',\n",
       " 'barcelona\\n',\n",
       " 'barcelona hotel\\n',\n",
       " 'bargain cruise\\n',\n",
       " 'bargain travel\\n',\n",
       " 'base business home\\n',\n",
       " 'base business home idea\\n',\n",
       " 'base business home internet\\n',\n",
       " 'base business home opportunity\\n',\n",
       " 'base business home start\\n',\n",
       " 'baseball bet\\n',\n",
       " 'baseball betting\\n',\n",
       " 'baseball betting line\\n',\n",
       " 'baseball gambling\\n',\n",
       " 'baseball odds\\n',\n",
       " 'based best business home\\n',\n",
       " 'based business computer home\\n',\n",
       " 'based business free home opportunity\\n',\n",
       " 'based business home\\n',\n",
       " 'based business home idea\\n',\n",
       " 'based business home internet\\n',\n",
       " 'based business home internet opportunity\\n',\n",
       " 'based business home internet real\\n',\n",
       " 'based business home legitimate\\n',\n",
       " 'based business home mlm\\n',\n",
       " 'based business home online\\n',\n",
       " 'based business home online opportunity\\n',\n",
       " 'based business home online start\\n',\n",
       " 'based business home opportunity\\n',\n",
       " 'based business home small\\n',\n",
       " 'based business home start\\n',\n",
       " 'based business home starting\\n',\n",
       " 'based business home top\\n',\n",
       " 'based business home work\\n',\n",
       " 'based business internet\\n',\n",
       " 'based business internet opportunity\\n',\n",
       " 'based home opportunity\\n',\n",
       " 'based home work\\n',\n",
       " 'basket birthday gift\\n',\n",
       " 'basket business gift\\n',\n",
       " 'basket chocolate gift\\n',\n",
       " 'basket corporate gift\\n',\n",
       " 'basket food gift\\n',\n",
       " 'basket fruit\\n',\n",
       " 'basket gift\\n',\n",
       " 'basket gift gourmet\\n',\n",
       " 'basket gift holiday\\n',\n",
       " 'basket gift online\\n',\n",
       " 'basket gift thank\\n',\n",
       " 'basket gift unique\\n',\n",
       " 'basket gourmet\\n',\n",
       " 'basketball bet\\n',\n",
       " 'basketball betting\\n',\n",
       " 'basketball betting football\\n',\n",
       " 'basketball gambling\\n',\n",
       " 'basketball gambling online\\n',\n",
       " 'basketball wagering\\n',\n",
       " 'bath\\n',\n",
       " 'battery\\n',\n",
       " 'beach\\n',\n",
       " 'beach carolina hotel myrtle south\\n',\n",
       " 'beach city hotel panama\\n',\n",
       " 'beach cocoa hotel\\n',\n",
       " 'beach daytona\\n',\n",
       " 'beach daytona fl hotel\\n',\n",
       " 'beach daytona florida\\n',\n",
       " 'beach daytona florida hotel\\n',\n",
       " 'beach daytona hotel\\n',\n",
       " 'beach daytona lodging\\n',\n",
       " 'beach florida hotel miami\\n',\n",
       " 'beach hotel miami\\n',\n",
       " 'beach hotel myrtle\\n',\n",
       " 'beach hotel myrtle north\\n',\n",
       " 'beach hotel myrtle sc\\n',\n",
       " 'beach hotel palm\\n',\n",
       " 'beach hotel palm west\\n',\n",
       " 'beach miami\\n',\n",
       " 'beach myrtle\\n',\n",
       " 'beach vacation\\n',\n",
       " 'bear teddy\\n',\n",
       " 'beauty\\n',\n",
       " 'beauty product\\n',\n",
       " 'berlin\\n',\n",
       " 'berlin hotel\\n',\n",
       " 'bermuda cruise\\n',\n",
       " 'best book online sport\\n',\n",
       " 'best book sport\\n',\n",
       " 'best business home\\n',\n",
       " 'best business internet\\n',\n",
       " 'best business opportunity\\n',\n",
       " 'best card credit\\n',\n",
       " 'best casino\\n',\n",
       " 'best casino gambling online\\n',\n",
       " 'best casino internet\\n',\n",
       " 'best casino online\\n',\n",
       " 'best company hosting web\\n',\n",
       " 'best design site web\\n',\n",
       " 'best design web\\n',\n",
       " 'best diet pill\\n',\n",
       " 'best distance long rate\\n',\n",
       " 'best equity home loan\\n',\n",
       " 'best equity home loan rate\\n',\n",
       " 'best gambling online\\n',\n",
       " 'best gambling site\\n',\n",
       " 'best gambling site web\\n',\n",
       " 'best home loan mortgage rate refinance\\n',\n",
       " 'best host web\\n',\n",
       " 'best hosting provider web\\n',\n",
       " 'best hosting service site web\\n',\n",
       " 'best hosting service web\\n',\n",
       " 'best hosting services site web\\n',\n",
       " 'best hosting services web\\n',\n",
       " 'best hosting site web\\n',\n",
       " 'best hosting web\\n',\n",
       " 'best mlm\\n',\n",
       " 'best mortgage rate\\n',\n",
       " 'best online wagering\\n',\n",
       " 'bet\\n',\n",
       " 'bet bowl super\\n',\n",
       " 'bet casino\\n',\n",
       " 'bet college football\\n',\n",
       " 'bet football\\n',\n",
       " 'bet football online\\n',\n",
       " 'bet free\\n',\n",
       " 'bet golf\\n',\n",
       " 'bet internet\\n',\n",
       " 'bet line\\n',\n",
       " 'bet nfl\\n',\n",
       " 'bet online\\n',\n",
       " 'bet online sport\\n',\n",
       " 'bet place\\n',\n",
       " 'bet soccer\\n',\n",
       " 'bet sport\\n',\n",
       " 'bet sports\\n',\n",
       " 'bet virtual\\n',\n",
       " 'bet where\\n',\n",
       " 'beta carotene\\n',\n",
       " 'better engine placement search\\n',\n",
       " 'betting\\n',\n",
       " 'betting black jack\\n',\n",
       " 'betting book line sport\\n',\n",
       " 'betting book online sport\\n',\n",
       " 'betting book sport\\n',\n",
       " 'betting casino\\n',\n",
       " 'betting casino online\\n',\n",
       " 'betting college football\\n',\n",
       " 'betting college football line\\n',\n",
       " 'betting football\\n',\n",
       " 'betting football line\\n',\n",
       " 'betting football ncaa\\n',\n",
       " 'betting football nfl\\n',\n",
       " 'betting football odds\\n',\n",
       " 'betting football online\\n',\n",
       " 'betting football pro\\n',\n",
       " 'betting golf\\n',\n",
       " 'betting hockey\\n',\n",
       " 'betting horse\\n',\n",
       " 'betting internet\\n',\n",
       " 'betting internet sport\\n',\n",
       " 'betting internet sports\\n',\n",
       " 'betting line\\n',\n",
       " 'betting line nfl\\n',\n",
       " 'betting line sport\\n',\n",
       " 'betting line sports\\n',\n",
       " 'betting listing\\n',\n",
       " 'betting nba\\n',\n",
       " 'betting nfl\\n',\n",
       " 'betting nfl odds\\n',\n",
       " 'betting odds\\n',\n",
       " 'betting odds sport\\n',\n",
       " 'betting offshore\\n',\n",
       " 'betting offshore sport\\n',\n",
       " 'betting offshore wagering\\n',\n",
       " 'betting online\\n',\n",
       " 'betting online shop\\n',\n",
       " 'betting online sport\\n',\n",
       " 'betting online sports\\n',\n",
       " 'betting site\\n',\n",
       " 'betting soccer\\n',\n",
       " 'betting sport\\n',\n",
       " 'betting sport wagering\\n',\n",
       " 'betting sports\\n',\n",
       " 'betting spread\\n',\n",
       " 'betting virtual\\n',\n",
       " 'beverly hills hotel\\n',\n",
       " 'big make money\\n',\n",
       " 'big tit\\n',\n",
       " 'bilberry\\n',\n",
       " 'bill consolidate\\n',\n",
       " 'bill consolidation\\n',\n",
       " 'bill consolidation debt\\n',\n",
       " 'bill consolidation loan\\n',\n",
       " 'biloba ginkgo\\n',\n",
       " 'biloxi hotel\\n',\n",
       " 'binder\\n',\n",
       " 'bird house\\n',\n",
       " 'birmingham\\n',\n",
       " 'birmingham hotel\\n',\n",
       " 'birthday\\n',\n",
       " 'birthday flower\\n',\n",
       " 'birthday gift\\n',\n",
       " 'birthday gift idea\\n',\n",
       " 'birthday gift idea unique\\n',\n",
       " 'birthday gift man\\n',\n",
       " 'birthday gift mom\\n',\n",
       " 'birthday gift unique\\n',\n",
       " 'birthday present\\n',\n",
       " 'biz\\n',\n",
       " 'black card game jack\\n',\n",
       " 'black casino game jack\\n',\n",
       " 'black casino jack\\n',\n",
       " 'black casino jack online\\n',\n",
       " 'black casino jack poker\\n',\n",
       " 'black casino jack roulette\\n',\n",
       " 'black craps jack roulette\\n',\n",
       " 'black download game jack\\n',\n",
       " 'black download jack\\n',\n",
       " 'black free game jack\\n',\n",
       " 'black free jack\\n',\n",
       " 'black free jack online\\n',\n",
       " 'black gambling jack\\n',\n",
       " 'black gambling jack online\\n',\n",
       " 'black game jack\\n',\n",
       " 'black game jack online\\n',\n",
       " 'black internet jack\\n',\n",
       " 'black jack\\n',\n",
       " 'black jack java\\n',\n",
       " 'black jack machine slot\\n',\n",
       " 'black jack online\\n',\n",
       " 'black jack online play\\n',\n",
       " 'black jack play\\n',\n",
       " 'black jack poker\\n',\n",
       " 'black jack poker roulette\\n',\n",
       " 'black jack roulette\\n',\n",
       " 'black jack software\\n',\n",
       " 'black jack tip\\n',\n",
       " 'black jack virtual\\n',\n",
       " 'black jack win\\n',\n",
       " 'black jack winning\\n',\n",
       " 'black porn\\n',\n",
       " 'black pussy\\n',\n",
       " 'black sex\\n',\n",
       " 'blind date\\n',\n",
       " 'blocker fat\\n',\n",
       " 'blow hardcore job\\n',\n",
       " 'blow job\\n',\n",
       " 'blow job movie\\n',\n",
       " 'blow job teen\\n',\n",
       " 'boca hotel raton\\n',\n",
       " 'body building\\n',\n",
       " 'body building supplement\\n',\n",
       " 'bontril\\n',\n",
       " 'bontril buy\\n',\n",
       " 'bontril buy online\\n',\n",
       " 'bontril cheap\\n',\n",
       " 'bontril online\\n',\n",
       " 'bontril sr\\n',\n",
       " 'bonus casino\\n',\n",
       " 'bonus casino free\\n',\n",
       " 'bonus casino online\\n',\n",
       " 'book\\n',\n",
       " 'book casino gambling sport\\n',\n",
       " 'book casino online sport\\n',\n",
       " 'book casino sport\\n',\n",
       " 'book cyber sport\\n',\n",
       " 'book football sport\\n',\n",
       " 'book gambling online sport\\n',\n",
       " 'book gambling sport\\n',\n",
       " 'book gaming sport\\n',\n",
       " 'book internet sport\\n',\n",
       " 'book legal sport\\n',\n",
       " 'book line sport\\n',\n",
       " 'book maker\\n',\n",
       " 'book nfl sport\\n',\n",
       " 'book offshore sport\\n',\n",
       " 'book online sport\\n',\n",
       " 'book online sport wagering\\n',\n",
       " 'book sport\\n',\n",
       " 'book sport wager\\n',\n",
       " 'book sport wagering\\n',\n",
       " 'book sports\\n',\n",
       " 'bookie\\n',\n",
       " 'bookie online\\n',\n",
       " 'boss own\\n',\n",
       " 'boston\\n',\n",
       " 'boston hotel\\n',\n",
       " 'boston hotel ma\\n',\n",
       " 'boston hotel massachusetts\\n',\n",
       " 'bouquet\\n',\n",
       " 'bouquet flower\\n',\n",
       " 'bouquet rose\\n',\n",
       " 'box jewelry\\n',\n",
       " 'bracelet\\n',\n",
       " 'branson\\n',\n",
       " 'branson hotel\\n',\n",
       " 'brazil\\n',\n",
       " 'bridesmaid gift\\n',\n",
       " 'briefcase\\n',\n",
       " 'briefcase leather\\n',\n",
       " 'broker mortgage\\n',\n",
       " 'brother\\n',\n",
       " 'brother toner\\n',\n",
       " 'brussels hotel\\n',\n",
       " 'budget host\\n',\n",
       " 'budget travel\\n',\n",
       " 'buffalo hotel\\n',\n",
       " 'buick\\n',\n",
       " 'build own site web\\n',\n",
       " 'build page web\\n',\n",
       " 'build site web\\n',\n",
       " 'builder page web\\n',\n",
       " 'builder site web\\n',\n",
       " 'building page web\\n',\n",
       " 'building site web\\n',\n",
       " 'burn fat\\n',\n",
       " 'burner fat\\n',\n",
       " 'burning fat\\n',\n",
       " 'business\\n',\n",
       " 'business business\\n',\n",
       " 'business business ecommerce\\n',\n",
       " 'business business marketing\\n',\n",
       " 'business card credit\\n',\n",
       " 'business computer home\\n',\n",
       " 'business design site small web\\n',\n",
       " 'business design site web\\n',\n",
       " 'business design small web\\n',\n",
       " 'business distance long\\n',\n",
       " 'business ecommerce\\n',\n",
       " 'business ecommerce internet solution\\n',\n",
       " 'business ecommerce small\\n',\n",
       " 'business ecommerce solution\\n',\n",
       " 'business free opportunity\\n',\n",
       " 'business from home\\n',\n",
       " 'business from home opportunity work\\n',\n",
       " 'business from home work\\n',\n",
       " 'business gift\\n',\n",
       " 'business home\\n',\n",
       " 'business home home work\\n',\n",
       " 'business home idea\\n',\n",
       " 'business home in\\n',\n",
       " 'business home internet\\n',\n",
       " 'business home internet opportunity\\n',\n",
       " 'business home internet work\\n',\n",
       " 'business home legitimate\\n',\n",
       " 'business home make money opportunity\\n',\n",
       " 'business home mlm\\n',\n",
       " 'business home online\\n',\n",
       " 'business home opportunity\\n',\n",
       " 'business home opportunity work\\n',\n",
       " 'business home small\\n',\n",
       " 'business home start\\n',\n",
       " 'business home starting\\n',\n",
       " 'business home startup\\n',\n",
       " 'business home stay\\n',\n",
       " 'business home work\\n',\n",
       " 'business homebased\\n',\n",
       " 'business homebased internet\\n',\n",
       " 'business homebased opportunity\\n',\n",
       " 'business hosting\\n',\n",
       " 'business hosting site web\\n',\n",
       " 'business hosting small web\\n',\n",
       " 'business hosting web\\n',\n",
       " 'business idea\\n',\n",
       " 'business idea internet\\n',\n",
       " 'business idea small\\n',\n",
       " 'business internet\\n',\n",
       " 'business internet marketing\\n',\n",
       " 'business internet marketing online\\n',\n",
       " 'business internet online opportunity\\n',\n",
       " 'business internet opportunity\\n',\n",
       " 'business internet own start\\n',\n",
       " 'business internet solution\\n',\n",
       " 'business internet start\\n',\n",
       " 'business internet starting\\n',\n",
       " 'business making money opportunity\\n',\n",
       " 'business marketing\\n',\n",
       " 'business marketing network\\n',\n",
       " 'business marketing network opportunity\\n',\n",
       " 'business marketing online\\n',\n",
       " 'business marketing small\\n',\n",
       " 'business mlm\\n',\n",
       " 'business mlm opportunity\\n',\n",
       " 'business new\\n',\n",
       " 'business new opportunity\\n',\n",
       " 'business online\\n',\n",
       " 'business online opportunity\\n',\n",
       " 'business online start\\n',\n",
       " 'business online starting\\n',\n",
       " 'business opportunity\\n',\n",
       " 'business opportunity seeker\\n',\n",
       " 'business opportunity small\\n',\n",
       " 'business opportunity web\\n',\n",
       " 'business own start\\n',\n",
       " 'business own starting\\n',\n",
       " 'business plan\\n',\n",
       " 'business plan small\\n',\n",
       " 'business promotion\\n',\n",
       " 'business resource\\n',\n",
       " 'business resource small\\n',\n",
       " 'business service\\n',\n",
       " 'business site small web\\n',\n",
       " 'business site web\\n',\n",
       " 'business small\\n',\n",
       " 'business small start\\n',\n",
       " 'business small start up\\n',\n",
       " 'business small starting\\n',\n",
       " 'business small startup\\n',\n",
       " 'business software\\n',\n",
       " 'business start\\n',\n",
       " 'business start up\\n',\n",
       " 'business starting\\n',\n",
       " 'business travel\\n',\n",
       " 'business web\\n',\n",
       " 'buy car\\n',\n",
       " 'buy car new\\n',\n",
       " 'buy didrex\\n',\n",
       " 'buy diet online pill\\n',\n",
       " 'buy diet pill\\n',\n",
       " 'buy domain\\n',\n",
       " 'buy domain name\\n',\n",
       " 'buy flower\\n',\n",
       " 'buy flower online\\n',\n",
       " 'buy internet viagra\\n',\n",
       " 'buy ionamin\\n',\n",
       " 'buy line phentermine\\n',\n",
       " 'buy meridia\\n',\n",
       " 'buy meridia online\\n',\n",
       " 'buy online phentermine\\n',\n",
       " 'buy online viagra\\n',\n",
       " 'buy online xenical\\n',\n",
       " 'buy phentermine\\n',\n",
       " 'buy propecia\\n',\n",
       " 'buy tenuate\\n',\n",
       " 'buy valtrex\\n',\n",
       " 'buy viagra\\n',\n",
       " 'buy viagra on line\\n',\n",
       " 'buy viagra where\\n',\n",
       " 'buy xenical\\n',\n",
       " 'buy zyban\\n',\n",
       " 'buying car\\n',\n",
       " 'buying car new\\n',\n",
       " 'buying online viagra\\n',\n",
       " 'buying viagra\\n',\n",
       " 'c vitamin\\n',\n",
       " 'ca diego hotel san\\n',\n",
       " 'ca francisco hotel san\\n',\n",
       " 'cadillac\\n',\n",
       " 'calcium\\n',\n",
       " 'calculation mortgage\\n',\n",
       " 'calculator\\n',\n",
       " 'calculator home mortgage\\n',\n",
       " 'calculator loan mortgage\\n',\n",
       " 'calculator mortgage\\n',\n",
       " 'calculator mortgage payment\\n',\n",
       " 'calendar\\n',\n",
       " 'california\\n',\n",
       " 'california diego hotel san\\n',\n",
       " 'california equity home loan\\n',\n",
       " 'california francisco hotel in san\\n',\n",
       " 'california francisco hotel san\\n',\n",
       " 'california home loan\\n',\n",
       " 'california hotel\\n',\n",
       " 'california loan mortgage\\n',\n",
       " 'california mortgage\\n',\n",
       " 'california vacation\\n',\n",
       " 'call cheap distance long\\n',\n",
       " 'call distance long\\n',\n",
       " 'call distance long phone\\n',\n",
       " 'calling card\\n',\n",
       " 'calling distance long\\n',\n",
       " 'calling distance long plan\\n',\n",
       " 'cam sex\\n',\n",
       " 'camcorder\\n',\n",
       " 'camera\\n',\n",
       " 'camera digital\\n',\n",
       " 'camry toyota\\n',\n",
       " 'cancun\\n',\n",
       " 'cancun hotel\\n',\n",
       " 'cancun hotel mexico\\n',\n",
       " 'cancun vacation\\n',\n",
       " 'candle\\n',\n",
       " 'candle holder\\n',\n",
       " 'candy\\n',\n",
       " 'canon\\n',\n",
       " 'canon cartridge\\n',\n",
       " 'canon cartridge ink\\n',\n",
       " 'canon cartridge ink jet\\n',\n",
       " 'canon cartridge ink printer\\n',\n",
       " 'canon cartridge inkjet\\n',\n",
       " 'canon cartridge printer\\n',\n",
       " 'canon cartridge toner\\n',\n",
       " 'canon copier toner\\n',\n",
       " 'canon ink\\n',\n",
       " 'canon ink printer\\n',\n",
       " 'canon laser toner\\n',\n",
       " 'canon printer\\n',\n",
       " 'canon printer supply\\n',\n",
       " 'canon toner\\n',\n",
       " 'canyon grand hotel\\n',\n",
       " 'car\\n',\n",
       " 'car insurance quote\\n',\n",
       " 'car loan\\n',\n",
       " 'car loan new\\n',\n",
       " 'car new\\n',\n",
       " 'car new price\\n',\n",
       " 'car new pricing\\n',\n",
       " 'car price\\n',\n",
       " 'car rental\\n',\n",
       " 'car sale\\n',\n",
       " 'caravan dodge\\n',\n",
       " 'card\\n',\n",
       " 'card card credit master\\n',\n",
       " 'card casino game\\n',\n",
       " 'card company credit\\n',\n",
       " 'card company credit processing\\n',\n",
       " 'card consolidate credit debt\\n',\n",
       " 'card consolidation credit\\n',\n",
       " 'card consolidation credit debt\\n',\n",
       " 'card credit\\n',\n",
       " 'card credit debt\\n',\n",
       " 'card credit debt help\\n',\n",
       " 'card credit debt management\\n',\n",
       " 'card credit debt reduction\\n',\n",
       " 'card credit debt relief\\n',\n",
       " 'card credit free\\n',\n",
       " 'card credit instant\\n',\n",
       " 'card credit interest low\\n',\n",
       " 'card credit interest low rate\\n',\n",
       " 'card credit internet\\n',\n",
       " 'card credit internet processing\\n',\n",
       " 'card credit low rate\\n',\n",
       " 'card credit merchant\\n',\n",
       " 'card credit offer\\n',\n",
       " 'card credit online\\n',\n",
       " 'card credit online processing\\n',\n",
       " 'card credit processing\\n',\n",
       " 'card credit rate\\n',\n",
       " 'card credit secured\\n',\n",
       " 'card credit service\\n',\n",
       " 'card credit student\\n',\n",
       " 'card credit unsecured\\n',\n",
       " 'card credit visa\\n',\n",
       " 'card gambling\\n',\n",
       " 'card game\\n',\n",
       " 'card game online\\n',\n",
       " 'card game poker\\n',\n",
       " 'card master visa\\n',\n",
       " 'card phone\\n',\n",
       " 'card visa\\n',\n",
       " 'care product skin\\n',\n",
       " 'care skin\\n',\n",
       " 'career home work\\n',\n",
       " 'caribbean\\n',\n",
       " 'caribbean cruise\\n',\n",
       " 'caribbean cruise line royal\\n',\n",
       " 'caribbean cruise royal\\n',\n",
       " 'caribbean poker\\n',\n",
       " 'caribbean poker stud\\n',\n",
       " 'caribbean travel\\n',\n",
       " 'caribbean vacation\\n',\n",
       " 'carlo monte\\n',\n",
       " 'carnitine\\n',\n",
       " 'carnitine l\\n',\n",
       " 'carnival cruise\\n',\n",
       " 'carnival cruise line\\n',\n",
       " 'carolina charleston hotel south\\n',\n",
       " 'carolina charlotte hotel north\\n',\n",
       " 'carrier distance long\\n',\n",
       " 'carrier distance long phone\\n',\n",
       " 'cart ecommerce shopping\\n',\n",
       " 'cart online shopping\\n',\n",
       " 'cart program shopping\\n',\n",
       " 'cart shopping\\n',\n",
       " 'cart shopping software\\n',\n",
       " 'cartilage shark\\n',\n",
       " 'cartridge\\n',\n",
       " 'cartridge cheap ink\\n',\n",
       " 'cartridge cheap inkjet\\n',\n",
       " 'cartridge compaq ink\\n',\n",
       " 'cartridge compaq inkjet\\n',\n",
       " 'cartridge compatible inkjet\\n',\n",
       " 'cartridge copier toner\\n',\n",
       " 'cartridge discount ink\\n',\n",
       " 'cartridge discount inkjet\\n',\n",
       " 'cartridge discount printer\\n',\n",
       " 'cartridge discount toner\\n',\n",
       " 'cartridge epson\\n',\n",
       " 'cartridge epson ink\\n',\n",
       " 'cartridge epson ink jet\\n',\n",
       " 'cartridge epson ink printer\\n',\n",
       " 'cartridge epson inkjet\\n',\n",
       " 'cartridge epson print\\n',\n",
       " 'cartridge epson printer\\n',\n",
       " 'cartridge hewlett ink jet packard\\n',\n",
       " 'cartridge hewlett ink packard\\n',\n",
       " 'cartridge hewlett inkjet packard\\n',\n",
       " 'cartridge hewlett packard\\n',\n",
       " 'cartridge hewlett packard printer\\n',\n",
       " 'cartridge hewlett packard toner\\n',\n",
       " 'cartridge hp\\n',\n",
       " 'cartridge hp ink\\n',\n",
       " 'cartridge hp ink jet\\n',\n",
       " 'cartridge hp ink printer\\n',\n",
       " 'cartridge hp inkjet\\n',\n",
       " 'cartridge hp inkjet printer\\n',\n",
       " 'cartridge hp printer\\n',\n",
       " 'cartridge hp toner\\n',\n",
       " 'cartridge ink\\n',\n",
       " 'cartridge ink inkjet printer\\n',\n",
       " 'cartridge ink jet printer\\n',\n",
       " 'cartridge ink jet refill\\n',\n",
       " 'cartridge ink lexmark\\n',\n",
       " 'cartridge ink lexmark printer\\n',\n",
       " 'cartridge ink printer\\n',\n",
       " 'cartridge ink refill\\n',\n",
       " 'cartridge ink xerox\\n',\n",
       " 'cartridge inkjet\\n',\n",
       " 'cartridge inkjet lexmark\\n',\n",
       " 'cartridge inkjet print\\n',\n",
       " 'cartridge inkjet printer\\n',\n",
       " 'cartridge inkjet refill\\n',\n",
       " 'cartridge inkjet xerox\\n',\n",
       " 'cartridge laser\\n',\n",
       " 'cartridge laser printer toner\\n',\n",
       " 'cartridge laser toner\\n',\n",
       " 'cartridge laserjet\\n',\n",
       " 'cartridge lexmark\\n',\n",
       " 'cartridge lexmark print\\n',\n",
       " 'cartridge lexmark printer\\n',\n",
       " 'cartridge lexmark toner\\n',\n",
       " 'cartridge print\\n',\n",
       " 'cartridge printer\\n',\n",
       " 'cartridge printer refill\\n',\n",
       " 'cartridge printer toner\\n',\n",
       " 'cartridge toner\\n',\n",
       " 'cartridge toner xerox\\n',\n",
       " 'case computer\\n',\n",
       " 'cash\\n',\n",
       " 'cash casino free\\n',\n",
       " 'cash casino free online\\n',\n",
       " 'cash earn\\n',\n",
       " 'cash earn extra\\n',\n",
       " 'casino\\n',\n",
       " 'casino chip\\n',\n",
       " 'casino chip free\\n',\n",
       " 'casino club gaming\\n',\n",
       " 'casino craps\\n',\n",
       " 'casino cyber\\n',\n",
       " 'casino directory\\n',\n",
       " 'casino directory online\\n',\n",
       " 'casino download\\n',\n",
       " 'casino download game\\n',\n",
       " 'casino download no online\\n',\n",
       " 'casino free\\n',\n",
       " 'casino free gambling\\n',\n",
       " 'casino free gambling online\\n',\n",
       " 'casino free game\\n',\n",
       " 'casino free game online\\n',\n",
       " 'casino free money\\n',\n",
       " 'casino free online\\n',\n",
       " 'casino free slot\\n',\n",
       " 'casino gamble\\n',\n",
       " 'casino gambling\\n',\n",
       " 'casino gambling game\\n',\n",
       " 'casino gambling game online\\n',\n",
       " 'casino gambling internet\\n',\n",
       " 'casino gambling internet online\\n',\n",
       " 'casino gambling line\\n',\n",
       " 'casino gambling online\\n',\n",
       " 'casino gambling online secure\\n',\n",
       " 'casino gambling virtual\\n',\n",
       " 'casino game\\n',\n",
       " 'casino game internet\\n',\n",
       " ...]"
      ]
     },
     "execution_count": 94,
     "metadata": {},
     "output_type": "execute_result"
    }
   ],
   "source": [
    "labels"
   ]
  },
  {
   "cell_type": "markdown",
   "metadata": {
    "colab_type": "text",
    "id": "KU3dKeir_jCo"
   },
   "source": [
    "Perfrom the second task from the tutorial. First, calculate the Laplacian matrix, L=D-A, find its second smallest eigenvector, sort it, and use the found indicies to find interpretable clusters of advertising terms (2-3 such clusters is enough). As an alternative out-of-the-box solution, you can use the implementation of Spectral Clustering with a given number of clusters from scikit-learn: http://scikit-learn.org/stable/modules/generated/sklearn.cluster.SpectralClustering.html"
   ]
  },
  {
   "cell_type": "code",
   "execution_count": 0,
   "metadata": {
    "colab": {},
    "colab_type": "code",
    "collapsed": true,
    "id": "SHrxEFAs_jCo"
   },
   "outputs": [],
   "source": [
    "### Your code here"
   ]
  }
 ],
 "metadata": {
  "colab": {
   "collapsed_sections": [],
   "name": "HW6_Spectral_clustering_and_anomaly_detection.ipynb",
   "provenance": [],
   "version": "0.3.2"
  },
  "kernelspec": {
   "display_name": "Python 3 (ipykernel)",
   "language": "python",
   "name": "python3"
  },
  "language_info": {
   "codemirror_mode": {
    "name": "ipython",
    "version": 3
   },
   "file_extension": ".py",
   "mimetype": "text/x-python",
   "name": "python",
   "nbconvert_exporter": "python",
   "pygments_lexer": "ipython3",
   "version": "3.8.5"
  }
 },
 "nbformat": 4,
 "nbformat_minor": 1
}
